{
 "cells": [
  {
   "cell_type": "code",
   "execution_count": null,
   "metadata": {},
   "outputs": [],
   "source": []
  },
  {
   "cell_type": "code",
   "execution_count": null,
   "metadata": {},
   "outputs": [],
   "source": [
    "import pandas as pd"
   ]
  },
  {
   "cell_type": "code",
   "execution_count": null,
   "metadata": {},
   "outputs": [],
   "source": [
    "list = [0, 10, 20, 30, 10, 70, 25, 30, 20, 10, 20, 65]\n",
    "move = [1, 1, 1, 1, 1, 1, 1, 2, 2, 2, 2, 2]\n",
    "\n",
    "records = pd.DataFrame({'idmove': move, 'enhanced_altitude': })"
   ]
  },
  {
   "cell_type": "code",
   "execution_count": null,
   "metadata": {},
   "outputs": [],
   "source": [
    "cum_alt = 0\n",
    "for i in range(1, len(records)):\n",
    "    if records['idmove'].iloc[i] == records['idmove'].iloc[i-1]:\n",
    "        cum_alt += max(record['enhanced_altitude'].iloc[i] - record['enhanced_altitude'].iloc[i-1], 0)\n",
    "    else:\n",
    "        cum_alt = 0\n",
    "    acum_altitude.append(cum_alt)\n",
    "\n"
   ]
  },
  {
   "cell_type": "code",
   "execution_count": null,
   "metadata": {},
   "outputs": [],
   "source": []
  },
  {
   "cell_type": "code",
   "execution_count": null,
   "metadata": {},
   "outputs": [],
   "source": []
  }
 ],
 "metadata": {
  "kernelspec": {
   "display_name": "Python 3",
   "language": "python",
   "name": "python3"
  },
  "language_info": {
   "codemirror_mode": {
    "name": "ipython",
    "version": 3
   },
   "file_extension": ".py",
   "mimetype": "text/x-python",
   "name": "python",
   "nbconvert_exporter": "python",
   "pygments_lexer": "ipython3",
   "version": "3.7.1"
  }
 },
 "nbformat": 4,
 "nbformat_minor": 2
}
