{
 "cells": [
  {
   "cell_type": "markdown",
   "metadata": {},
   "source": [
    "# RUN PERFORMANCE PROJECT - Pau Sampietro"
   ]
  },
  {
   "cell_type": "markdown",
   "metadata": {},
   "source": [
    "## Time Series Approach for predicting future races"
   ]
  },
  {
   "cell_type": "markdown",
   "metadata": {},
   "source": [
    "In this file, we focus on some specific data, those flat moves whose lenghts are between 7 and 13 km. We want to know how the moving time for these moves is evolving with time. That could provides us a more accurate prediction for similar competitions"
   ]
  },
  {
   "cell_type": "code",
   "execution_count": 2,
   "metadata": {},
   "outputs": [],
   "source": [
    "import numpy as np\n",
    "import pandas as pd\n",
    "import seaborn as sns\n",
    "import matplotlib.pyplot as plt\n",
    "from rpdb import read_table, read_table_sql, export_table\n",
    "from datetime import datetime"
   ]
  },
  {
   "cell_type": "markdown",
   "metadata": {},
   "source": [
    "#### Import moves from the database"
   ]
  },
  {
   "cell_type": "code",
   "execution_count": 14,
   "metadata": {},
   "outputs": [
    {
     "data": {
      "text/html": [
       "<div>\n",
       "<style scoped>\n",
       "    .dataframe tbody tr th:only-of-type {\n",
       "        vertical-align: middle;\n",
       "    }\n",
       "\n",
       "    .dataframe tbody tr th {\n",
       "        vertical-align: top;\n",
       "    }\n",
       "\n",
       "    .dataframe thead th {\n",
       "        text-align: right;\n",
       "    }\n",
       "</style>\n",
       "<table border=\"1\" class=\"dataframe\">\n",
       "  <thead>\n",
       "    <tr style=\"text-align: right;\">\n",
       "      <th></th>\n",
       "      <th>index</th>\n",
       "      <th>move</th>\n",
       "      <th>start_time</th>\n",
       "      <th>distance</th>\n",
       "      <th>calories</th>\n",
       "      <th>athlete</th>\n",
       "      <th>accum_ascent</th>\n",
       "      <th>moving_time</th>\n",
       "      <th>pace</th>\n",
       "      <th>heart_rate</th>\n",
       "      <th>ascent_ratio</th>\n",
       "    </tr>\n",
       "  </thead>\n",
       "  <tbody>\n",
       "    <tr>\n",
       "      <th>0</th>\n",
       "      <td>0</td>\n",
       "      <td>1</td>\n",
       "      <td>2017-07-02 09:46:40</td>\n",
       "      <td>4019.0</td>\n",
       "      <td>670.0</td>\n",
       "      <td>P</td>\n",
       "      <td>280.0</td>\n",
       "      <td>29.8</td>\n",
       "      <td>7.41</td>\n",
       "      <td>166.0</td>\n",
       "      <td>69.7</td>\n",
       "    </tr>\n",
       "    <tr>\n",
       "      <th>1</th>\n",
       "      <td>1</td>\n",
       "      <td>2</td>\n",
       "      <td>2017-07-02 10:32:23</td>\n",
       "      <td>4995.0</td>\n",
       "      <td>585.0</td>\n",
       "      <td>P</td>\n",
       "      <td>63.0</td>\n",
       "      <td>30.9</td>\n",
       "      <td>6.19</td>\n",
       "      <td>168.0</td>\n",
       "      <td>12.6</td>\n",
       "    </tr>\n",
       "    <tr>\n",
       "      <th>2</th>\n",
       "      <td>2</td>\n",
       "      <td>3</td>\n",
       "      <td>2017-07-19 17:49:13</td>\n",
       "      <td>4374.0</td>\n",
       "      <td>602.0</td>\n",
       "      <td>P</td>\n",
       "      <td>115.0</td>\n",
       "      <td>22.6</td>\n",
       "      <td>5.17</td>\n",
       "      <td>180.0</td>\n",
       "      <td>26.3</td>\n",
       "    </tr>\n",
       "    <tr>\n",
       "      <th>3</th>\n",
       "      <td>3</td>\n",
       "      <td>4</td>\n",
       "      <td>2017-07-20 17:56:41</td>\n",
       "      <td>3005.0</td>\n",
       "      <td>365.0</td>\n",
       "      <td>P</td>\n",
       "      <td>91.0</td>\n",
       "      <td>16.9</td>\n",
       "      <td>5.62</td>\n",
       "      <td>167.0</td>\n",
       "      <td>30.3</td>\n",
       "    </tr>\n",
       "    <tr>\n",
       "      <th>4</th>\n",
       "      <td>4</td>\n",
       "      <td>5</td>\n",
       "      <td>2017-07-24 16:17:34</td>\n",
       "      <td>6540.0</td>\n",
       "      <td>760.0</td>\n",
       "      <td>P</td>\n",
       "      <td>241.0</td>\n",
       "      <td>42.0</td>\n",
       "      <td>6.42</td>\n",
       "      <td>161.0</td>\n",
       "      <td>36.9</td>\n",
       "    </tr>\n",
       "  </tbody>\n",
       "</table>\n",
       "</div>"
      ],
      "text/plain": [
       "   index  move          start_time  distance  calories athlete  accum_ascent  \\\n",
       "0      0     1 2017-07-02 09:46:40    4019.0     670.0       P         280.0   \n",
       "1      1     2 2017-07-02 10:32:23    4995.0     585.0       P          63.0   \n",
       "2      2     3 2017-07-19 17:49:13    4374.0     602.0       P         115.0   \n",
       "3      3     4 2017-07-20 17:56:41    3005.0     365.0       P          91.0   \n",
       "4      4     5 2017-07-24 16:17:34    6540.0     760.0       P         241.0   \n",
       "\n",
       "   moving_time  pace  heart_rate  ascent_ratio  \n",
       "0         29.8  7.41       166.0          69.7  \n",
       "1         30.9  6.19       168.0          12.6  \n",
       "2         22.6  5.17       180.0          26.3  \n",
       "3         16.9  5.62       167.0          30.3  \n",
       "4         42.0  6.42       161.0          36.9  "
      ]
     },
     "execution_count": 14,
     "metadata": {},
     "output_type": "execute_result"
    }
   ],
   "source": [
    "Ssql = \"SELECT * FROM moves WHERE athlete = 'P'\"\n",
    "moves = read_table_sql('moves', Ssql)\n",
    "moves.head()"
   ]
  },
  {
   "cell_type": "markdown",
   "metadata": {},
   "source": [
    "### 1. Filtering by distance, checking data interval and sorting moves"
   ]
  },
  {
   "cell_type": "markdown",
   "metadata": {},
   "source": [
    "#### 1.1. We get only the flat moves within 7 and 13 km (10+/-3)"
   ]
  },
  {
   "cell_type": "code",
   "execution_count": 17,
   "metadata": {},
   "outputs": [
    {
     "data": {
      "text/plain": [
       "51"
      ]
     },
     "execution_count": 17,
     "metadata": {},
     "output_type": "execute_result"
    }
   ],
   "source": [
    "moves_ts = moves[(moves.distance >= 7000) & (moves.distance <= 13000) & (moves.ascent_ratio < 35)]\n",
    "len(moves_ts)"
   ]
  },
  {
   "cell_type": "markdown",
   "metadata": {},
   "source": [
    "#### 1.2. Preparing data: sort values, reindex, drop all but start_time & pace"
   ]
  },
  {
   "cell_type": "code",
   "execution_count": 18,
   "metadata": {},
   "outputs": [
    {
     "data": {
      "text/plain": [
       "(Timestamp('2017-08-11 17:23:17'), Timestamp('2019-01-24 08:13:43'))"
      ]
     },
     "execution_count": 18,
     "metadata": {},
     "output_type": "execute_result"
    }
   ],
   "source": [
    "moves_ts['start_time'].min(), moves_ts['start_time'].max()"
   ]
  },
  {
   "cell_type": "markdown",
   "metadata": {},
   "source": [
    "* Droping all but useful time series columns, checking NaN values"
   ]
  },
  {
   "cell_type": "code",
   "execution_count": 20,
   "metadata": {},
   "outputs": [
    {
     "data": {
      "text/plain": [
       "start_time    0\n",
       "pace          0\n",
       "dtype: int64"
      ]
     },
     "execution_count": 20,
     "metadata": {},
     "output_type": "execute_result"
    }
   ],
   "source": [
    "cols = ['index', 'move','distance', 'calories', 'athlete', 'accum_ascent', 'moving_time', 'heart_rate', 'ascent_ratio']\n",
    "moves_ts.drop(cols, axis=1, inplace=True)\n",
    "moves_ts = moves_ts.sort_values('start_time')\n",
    "moves_ts.isnull().sum()"
   ]
  },
  {
   "cell_type": "code",
   "execution_count": null,
   "metadata": {},
   "outputs": [],
   "source": []
  }
 ],
 "metadata": {
  "kernelspec": {
   "display_name": "Python 3",
   "language": "python",
   "name": "python3"
  },
  "language_info": {
   "codemirror_mode": {
    "name": "ipython",
    "version": 3
   },
   "file_extension": ".py",
   "mimetype": "text/x-python",
   "name": "python",
   "nbconvert_exporter": "python",
   "pygments_lexer": "ipython3",
   "version": "3.7.1"
  }
 },
 "nbformat": 4,
 "nbformat_minor": 2
}
