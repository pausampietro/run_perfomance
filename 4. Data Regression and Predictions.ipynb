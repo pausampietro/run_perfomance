{
 "cells": [
  {
   "cell_type": "markdown",
   "metadata": {},
   "source": [
    "# RUN PERFORMANCE PROJECT - Pau Sampietro "
   ]
  },
  {
   "cell_type": "markdown",
   "metadata": {},
   "source": [
    "## Application of sup. learning algorithms (Regression) and Predictions for future moves"
   ]
  },
  {
   "cell_type": "markdown",
   "metadata": {},
   "source": [
    "To end our project, we would like to do a regression with all the moves performed by a given Athlete (Pau in this case), in order to be able to predict future performances in races to come. \n",
    "1. Urban Race: First, we will analyze the impact of some known features as distace and ascent in the outcome (moving_time).\n",
    "2. Cross-Country Race: In this case, we will have to perform some conversions to predict the moving_time as an outcome. "
   ]
  },
  {
   "cell_type": "markdown",
   "metadata": {},
   "source": [
    "To do this, we will try to use different approaches and compare the results:"
   ]
  },
  {
   "cell_type": "markdown",
   "metadata": {},
   "source": [
    "* Locally weighted regression\n",
    "* Linear Regression and Cross Validation\n",
    "* KN-Neighbors Regressor\n",
    "* Regression using Neural Network"
   ]
  },
  {
   "cell_type": "code",
   "execution_count": 2,
   "metadata": {},
   "outputs": [],
   "source": [
    "import numpy as np\n",
    "import pandas as pd\n",
    "import seaborn as sns\n",
    "import plotly.plotly as py\n",
    "import matplotlib.pyplot as plt\n",
    "import cufflinks as cf \n",
    "from ipywidgets import interact\n",
    "import plotly.graph_objs as go\n",
    "from rpdb import read_table, read_table_sql, export_table"
   ]
  },
  {
   "cell_type": "markdown",
   "metadata": {},
   "source": [
    "#### Importing data from table moves stored in the DB "
   ]
  },
  {
   "cell_type": "code",
   "execution_count": 3,
   "metadata": {},
   "outputs": [],
   "source": [
    "Ssql = \"SELECT * FROM moves WHERE athlete = 'P'\"\n",
    "moves = read_table_sql('moves', Ssql)"
   ]
  },
  {
   "cell_type": "code",
   "execution_count": null,
   "metadata": {},
   "outputs": [],
   "source": []
  }
 ],
 "metadata": {
  "kernelspec": {
   "display_name": "Python 3",
   "language": "python",
   "name": "python3"
  },
  "language_info": {
   "codemirror_mode": {
    "name": "ipython",
    "version": 3
   },
   "file_extension": ".py",
   "mimetype": "text/x-python",
   "name": "python",
   "nbconvert_exporter": "python",
   "pygments_lexer": "ipython3",
   "version": "3.7.1"
  }
 },
 "nbformat": 4,
 "nbformat_minor": 2
}
