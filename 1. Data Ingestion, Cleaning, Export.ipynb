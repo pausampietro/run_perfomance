{
 "cells": [
  {
   "cell_type": "markdown",
   "metadata": {},
   "source": [
    "# RUN PERFORMANCE PROJECT - Pau Sampietro"
   ]
  },
  {
   "cell_type": "markdown",
   "metadata": {},
   "source": [
    "## Data Ingestion, Cleaning and Export"
   ]
  },
  {
   "cell_type": "markdown",
   "metadata": {},
   "source": [
    "In this file we obtain the data from suunto files (.fit), we extract the relevant information, which is stored into two dataframes:\n",
    " * Records: contains all the records from every move (suunto watches take data every 1 second) (3.000.000 rows aprox)\n",
    " * Moves: contains general information about each move. (840 rows aprox)\n",
    "    \n",
    "1. First, we obtain all the Data\n",
    "2. Then we start cleaning null/nan values, adding missing information (accumulated ascent), etc.\n",
    "3. Finally, we export all this data to a Google Cloud Database."
   ]
  },
  {
   "cell_type": "markdown",
   "metadata": {},
   "source": [
    "#### Import Libraries"
   ]
  },
  {
   "cell_type": "code",
   "execution_count": 315,
   "metadata": {},
   "outputs": [],
   "source": [
    "import sys\n",
    "from fitparse import FitFile\n",
    "import os\n",
    "import pandas as pd\n",
    "import pymysql\n",
    "from sqlalchemy import create_engine\n",
    "import matplotlib.pyplot as plt"
   ]
  },
  {
   "cell_type": "markdown",
   "metadata": {},
   "source": [
    "#### Getting Path of all running moves (locally stored in two different folders)"
   ]
  },
  {
   "cell_type": "code",
   "execution_count": 316,
   "metadata": {},
   "outputs": [
    {
     "data": {
      "text/plain": [
       "['C:/Users/Pau Sampietro/Desktop/IRONHACK/Movescount_data/Moves/Move_2017_07_02_11_46_40_Running.fit',\n",
       " 'C:/Users/Pau Sampietro/Desktop/IRONHACK/Movescount_data/Moves/Move_2017_07_02_12_32_23_Running.fit',\n",
       " 'C:/Users/Pau Sampietro/Desktop/IRONHACK/Movescount_data/Moves/Move_2017_07_19_19_49_13_Running.fit',\n",
       " 'C:/Users/Pau Sampietro/Desktop/IRONHACK/Movescount_data/Moves/Move_2017_07_20_19_56_41_Running.fit',\n",
       " 'C:/Users/Pau Sampietro/Desktop/IRONHACK/Movescount_data/Moves/Move_2017_07_24_18_17_34_Running.fit']"
      ]
     },
     "execution_count": 316,
     "metadata": {},
     "output_type": "execute_result"
    }
   ],
   "source": [
    "# Pau's activities\n",
    "directory = 'C:/Users/Pau Sampietro/Desktop/IRONHACK/Movescount_data/Moves/'\n",
    "running_files = []\n",
    "for filename in os.listdir(directory):\n",
    "    if filename.endswith('Running.fit') : \n",
    "        running_files.append(os.path.join(directory, filename))\n",
    "        \n",
    "# Armand's activities\n",
    "directory = 'C:/Users/Pau Sampietro/Desktop/IRONHACK/Movescount_data/Moves_A/'\n",
    "for filename in os.listdir(directory):\n",
    "    if filename.endswith('Running.fit') : \n",
    "        running_files.append(os.path.join(directory, filename))\n",
    "                \n",
    "running_files[:5]"
   ]
  },
  {
   "cell_type": "markdown",
   "metadata": {},
   "source": [
    "### Creating DataFrames with data of every move and every record (Tables: \"moves\" and \"records\")"
   ]
  },
  {
   "cell_type": "code",
   "execution_count": 317,
   "metadata": {},
   "outputs": [],
   "source": [
    "# Initializing categories we want to store in Moves\n",
    "ls_move_id = []\n",
    "ls_start_time = []\n",
    "ls_total_moving_time = []\n",
    "ls_total_distance = []\n",
    "ls_total_calories = []\n",
    "ls_athlete = []\n",
    "# Initializing Categories for df Records\n",
    "ls_move_code = []\n",
    "ls_record_code = []\n",
    "ls_altitude = []\n",
    "ls_cadence = []\n",
    "ls_distance = []\n",
    "ls_enhanced_altitude = []\n",
    "ls_enhanced_speed = []\n",
    "ls_heart_rate = []\n",
    "ls_position_lat = []\n",
    "ls_position_long = []\n",
    "ls_speed = []\n",
    "ls_timestamp = []\n",
    "ls_vertical_speed = []\n",
    "\n",
    "move_code = 1\n",
    "for filepath in running_files:\n",
    "    fitfile = FitFile(filepath)\n",
    "    # Get all data messages that are of type record (information for df \"records\")\n",
    "    record_code = 1\n",
    "    for record in fitfile.get_messages('record'):\n",
    "        # Go through all the data entries in this record and fill the lists\n",
    "        ls_move_code.append(move_code)\n",
    "        ls_record_code.append(record_code)\n",
    "        ls_altitude.append(record.get_value('altitude'))\n",
    "        ls_cadence.append(record.get_value('cadence'))\n",
    "        ls_distance.append(record.get_value('distance'))\n",
    "        ls_enhanced_altitude.append(record.get_value('enhanced_altitude'))\n",
    "        ls_enhanced_speed.append(record.get_value('enhanced_speed'))\n",
    "        ls_heart_rate.append(record.get_value('heart_rate'))\n",
    "        ls_position_lat.append(record.get_value('position_lat'))\n",
    "        ls_position_long.append(record.get_value('position_long'))\n",
    "        ls_speed.append(record.get_value('speed'))\n",
    "        ls_timestamp.append(record.get_value('timestamp'))\n",
    "        ls_vertical_speed.append(record.get_value('vertical_speed'))\n",
    "        record_code += 1\n",
    "        \n",
    "    # Get message data with general information (information for df \"moves\")\n",
    "    for elem in fitfile.get_messages('session'):\n",
    "        ls_move_id.append(move_code)\n",
    "        ls_start_time.append(elem.get_value('start_time'))\n",
    "        ls_total_moving_time.append(elem.get_value('total_moving_time'))\n",
    "        ls_total_distance.append(elem.get_value('total_distance'))\n",
    "        ls_total_calories.append(elem.get_value('total_calories'))\n",
    "        if 'Moves_A' in filepath:\n",
    "            ls_athlete.append('A')\n",
    "        else:\n",
    "            ls_athlete.append('P')\n",
    "\n",
    "    move_code += 1"
   ]
  },
  {
   "cell_type": "markdown",
   "metadata": {},
   "source": [
    "### 1. Creating DataFrame Moves"
   ]
  },
  {
   "cell_type": "code",
   "execution_count": 318,
   "metadata": {},
   "outputs": [],
   "source": [
    "# Creating DF with all the general info of the moves\n",
    "moves = pd.DataFrame({'move': ls_move_id,\n",
    "                        'start_time': ls_start_time,\n",
    "                        'moving_time': ls_total_moving_time,\n",
    "                        'distance': ls_total_distance,\n",
    "                        'calories': ls_total_calories,\n",
    "                        'athlete': ls_athlete\n",
    "                       })"
   ]
  },
  {
   "cell_type": "markdown",
   "metadata": {},
   "source": [
    "#### Basic exploratory analysis of moves DF"
   ]
  },
  {
   "cell_type": "code",
   "execution_count": 319,
   "metadata": {},
   "outputs": [
    {
     "data": {
      "text/html": [
       "<div>\n",
       "<style scoped>\n",
       "    .dataframe tbody tr th:only-of-type {\n",
       "        vertical-align: middle;\n",
       "    }\n",
       "\n",
       "    .dataframe tbody tr th {\n",
       "        vertical-align: top;\n",
       "    }\n",
       "\n",
       "    .dataframe thead th {\n",
       "        text-align: right;\n",
       "    }\n",
       "</style>\n",
       "<table border=\"1\" class=\"dataframe\">\n",
       "  <thead>\n",
       "    <tr style=\"text-align: right;\">\n",
       "      <th></th>\n",
       "      <th>move</th>\n",
       "      <th>start_time</th>\n",
       "      <th>moving_time</th>\n",
       "      <th>distance</th>\n",
       "      <th>calories</th>\n",
       "      <th>athlete</th>\n",
       "    </tr>\n",
       "  </thead>\n",
       "  <tbody>\n",
       "    <tr>\n",
       "      <th>0</th>\n",
       "      <td>1</td>\n",
       "      <td>2017-07-02 09:46:40</td>\n",
       "      <td>1787.960</td>\n",
       "      <td>4019.0</td>\n",
       "      <td>670.0</td>\n",
       "      <td>P</td>\n",
       "    </tr>\n",
       "    <tr>\n",
       "      <th>1</th>\n",
       "      <td>2</td>\n",
       "      <td>2017-07-02 10:32:23</td>\n",
       "      <td>1856.488</td>\n",
       "      <td>4995.0</td>\n",
       "      <td>585.0</td>\n",
       "      <td>P</td>\n",
       "    </tr>\n",
       "    <tr>\n",
       "      <th>2</th>\n",
       "      <td>3</td>\n",
       "      <td>2017-07-19 17:49:13</td>\n",
       "      <td>1356.937</td>\n",
       "      <td>4374.0</td>\n",
       "      <td>602.0</td>\n",
       "      <td>P</td>\n",
       "    </tr>\n",
       "    <tr>\n",
       "      <th>3</th>\n",
       "      <td>4</td>\n",
       "      <td>2017-07-20 17:56:41</td>\n",
       "      <td>1014.037</td>\n",
       "      <td>3005.0</td>\n",
       "      <td>365.0</td>\n",
       "      <td>P</td>\n",
       "    </tr>\n",
       "    <tr>\n",
       "      <th>4</th>\n",
       "      <td>5</td>\n",
       "      <td>2017-07-24 16:17:34</td>\n",
       "      <td>2522.062</td>\n",
       "      <td>6540.0</td>\n",
       "      <td>760.0</td>\n",
       "      <td>P</td>\n",
       "    </tr>\n",
       "  </tbody>\n",
       "</table>\n",
       "</div>"
      ],
      "text/plain": [
       "   move          start_time  moving_time  distance  calories athlete\n",
       "0     1 2017-07-02 09:46:40     1787.960    4019.0     670.0       P\n",
       "1     2 2017-07-02 10:32:23     1856.488    4995.0     585.0       P\n",
       "2     3 2017-07-19 17:49:13     1356.937    4374.0     602.0       P\n",
       "3     4 2017-07-20 17:56:41     1014.037    3005.0     365.0       P\n",
       "4     5 2017-07-24 16:17:34     2522.062    6540.0     760.0       P"
      ]
     },
     "execution_count": 319,
     "metadata": {},
     "output_type": "execute_result"
    }
   ],
   "source": [
    "moves.head()"
   ]
  },
  {
   "cell_type": "code",
   "execution_count": 320,
   "metadata": {},
   "outputs": [
    {
     "name": "stdout",
     "output_type": "stream",
     "text": [
      "<class 'pandas.core.frame.DataFrame'>\n",
      "RangeIndex: 817 entries, 0 to 816\n",
      "Data columns (total 6 columns):\n",
      "move           817 non-null int64\n",
      "start_time     817 non-null datetime64[ns]\n",
      "moving_time    817 non-null float64\n",
      "distance       817 non-null float64\n",
      "calories       807 non-null float64\n",
      "athlete        817 non-null object\n",
      "dtypes: datetime64[ns](1), float64(3), int64(1), object(1)\n",
      "memory usage: 38.4+ KB\n"
     ]
    }
   ],
   "source": [
    "moves.info()"
   ]
  },
  {
   "cell_type": "code",
   "execution_count": 321,
   "metadata": {},
   "outputs": [
    {
     "data": {
      "text/plain": [
       "move            0\n",
       "start_time      0\n",
       "moving_time     0\n",
       "distance        0\n",
       "calories       10\n",
       "athlete         0\n",
       "dtype: int64"
      ]
     },
     "execution_count": 321,
     "metadata": {},
     "output_type": "execute_result"
    }
   ],
   "source": [
    "moves.isnull().sum()"
   ]
  },
  {
   "cell_type": "markdown",
   "metadata": {},
   "source": [
    "In this case, we could see that only some \"calories\" values are missing, so the data is quite good to start the analysis. Anyway, we will delete the moves that have distance 0.0, assuming they are errors"
   ]
  },
  {
   "cell_type": "code",
   "execution_count": 322,
   "metadata": {},
   "outputs": [],
   "source": [
    "moves = moves[moves.distance > 0.0]"
   ]
  },
  {
   "cell_type": "markdown",
   "metadata": {},
   "source": [
    "### 2. Creating DataFrame Records"
   ]
  },
  {
   "cell_type": "code",
   "execution_count": 323,
   "metadata": {},
   "outputs": [],
   "source": [
    "# Creating DF with all the records from all the moves\n",
    "records = pd.DataFrame({'idmove': ls_move_code,\n",
    "                        'idrecord': ls_record_code,\n",
    "                        'latitude': ls_position_lat,\n",
    "                        'longitude': ls_position_long,\n",
    "                        'distance': ls_distance,\n",
    "                        'altitude': ls_altitude,\n",
    "                        'enhanced_altitude': ls_enhanced_altitude,\n",
    "                        'cadence': ls_cadence,\n",
    "                        'speed': ls_speed,\n",
    "                        'enhanced_speed': ls_enhanced_speed,\n",
    "                        'vertical_speed': ls_vertical_speed,\n",
    "                        'heart_rate': ls_heart_rate,\n",
    "                        'timestamp': ls_timestamp \n",
    "                       })"
   ]
  },
  {
   "cell_type": "markdown",
   "metadata": {},
   "source": [
    "#### Basic exploratory analysis of records DF"
   ]
  },
  {
   "cell_type": "code",
   "execution_count": 324,
   "metadata": {},
   "outputs": [
    {
     "data": {
      "text/html": [
       "<div>\n",
       "<style scoped>\n",
       "    .dataframe tbody tr th:only-of-type {\n",
       "        vertical-align: middle;\n",
       "    }\n",
       "\n",
       "    .dataframe tbody tr th {\n",
       "        vertical-align: top;\n",
       "    }\n",
       "\n",
       "    .dataframe thead th {\n",
       "        text-align: right;\n",
       "    }\n",
       "</style>\n",
       "<table border=\"1\" class=\"dataframe\">\n",
       "  <thead>\n",
       "    <tr style=\"text-align: right;\">\n",
       "      <th></th>\n",
       "      <th>idmove</th>\n",
       "      <th>idrecord</th>\n",
       "      <th>latitude</th>\n",
       "      <th>longitude</th>\n",
       "      <th>distance</th>\n",
       "      <th>altitude</th>\n",
       "      <th>enhanced_altitude</th>\n",
       "      <th>cadence</th>\n",
       "      <th>speed</th>\n",
       "      <th>enhanced_speed</th>\n",
       "      <th>vertical_speed</th>\n",
       "      <th>heart_rate</th>\n",
       "      <th>timestamp</th>\n",
       "    </tr>\n",
       "  </thead>\n",
       "  <tbody>\n",
       "    <tr>\n",
       "      <th>0</th>\n",
       "      <td>1</td>\n",
       "      <td>1</td>\n",
       "      <td>495379858.0</td>\n",
       "      <td>28361936.0</td>\n",
       "      <td>NaN</td>\n",
       "      <td>NaN</td>\n",
       "      <td>NaN</td>\n",
       "      <td>NaN</td>\n",
       "      <td>NaN</td>\n",
       "      <td>NaN</td>\n",
       "      <td>NaN</td>\n",
       "      <td>NaN</td>\n",
       "      <td>2017-07-02 09:46:42</td>\n",
       "    </tr>\n",
       "    <tr>\n",
       "      <th>1</th>\n",
       "      <td>1</td>\n",
       "      <td>2</td>\n",
       "      <td>495380072.0</td>\n",
       "      <td>28361805.0</td>\n",
       "      <td>NaN</td>\n",
       "      <td>NaN</td>\n",
       "      <td>NaN</td>\n",
       "      <td>NaN</td>\n",
       "      <td>NaN</td>\n",
       "      <td>NaN</td>\n",
       "      <td>NaN</td>\n",
       "      <td>NaN</td>\n",
       "      <td>2017-07-02 09:46:43</td>\n",
       "    </tr>\n",
       "    <tr>\n",
       "      <th>2</th>\n",
       "      <td>1</td>\n",
       "      <td>3</td>\n",
       "      <td>495380502.0</td>\n",
       "      <td>28361626.0</td>\n",
       "      <td>NaN</td>\n",
       "      <td>NaN</td>\n",
       "      <td>NaN</td>\n",
       "      <td>NaN</td>\n",
       "      <td>NaN</td>\n",
       "      <td>NaN</td>\n",
       "      <td>NaN</td>\n",
       "      <td>NaN</td>\n",
       "      <td>2017-07-02 09:46:45</td>\n",
       "    </tr>\n",
       "  </tbody>\n",
       "</table>\n",
       "</div>"
      ],
      "text/plain": [
       "   idmove  idrecord     latitude   longitude  distance  altitude  \\\n",
       "0       1         1  495379858.0  28361936.0       NaN       NaN   \n",
       "1       1         2  495380072.0  28361805.0       NaN       NaN   \n",
       "2       1         3  495380502.0  28361626.0       NaN       NaN   \n",
       "\n",
       "   enhanced_altitude  cadence  speed  enhanced_speed  vertical_speed  \\\n",
       "0                NaN      NaN    NaN             NaN             NaN   \n",
       "1                NaN      NaN    NaN             NaN             NaN   \n",
       "2                NaN      NaN    NaN             NaN             NaN   \n",
       "\n",
       "   heart_rate           timestamp  \n",
       "0         NaN 2017-07-02 09:46:42  \n",
       "1         NaN 2017-07-02 09:46:43  \n",
       "2         NaN 2017-07-02 09:46:45  "
      ]
     },
     "execution_count": 324,
     "metadata": {},
     "output_type": "execute_result"
    }
   ],
   "source": [
    "records.head(3)"
   ]
  },
  {
   "cell_type": "code",
   "execution_count": 325,
   "metadata": {},
   "outputs": [
    {
     "name": "stdout",
     "output_type": "stream",
     "text": [
      "<class 'pandas.core.frame.DataFrame'>\n",
      "RangeIndex: 3095712 entries, 0 to 3095711\n",
      "Data columns (total 13 columns):\n",
      "idmove               int64\n",
      "idrecord             int64\n",
      "latitude             float64\n",
      "longitude            float64\n",
      "distance             float64\n",
      "altitude             float64\n",
      "enhanced_altitude    float64\n",
      "cadence              float64\n",
      "speed                float64\n",
      "enhanced_speed       float64\n",
      "vertical_speed       float64\n",
      "heart_rate           float64\n",
      "timestamp            datetime64[ns]\n",
      "dtypes: datetime64[ns](1), float64(10), int64(2)\n",
      "memory usage: 307.0 MB\n"
     ]
    }
   ],
   "source": [
    "records.info()"
   ]
  },
  {
   "cell_type": "code",
   "execution_count": 326,
   "metadata": {},
   "outputs": [
    {
     "data": {
      "text/plain": [
       "3095712"
      ]
     },
     "execution_count": 326,
     "metadata": {},
     "output_type": "execute_result"
    }
   ],
   "source": [
    "len(records)"
   ]
  },
  {
   "cell_type": "code",
   "execution_count": 327,
   "metadata": {},
   "outputs": [
    {
     "data": {
      "text/plain": [
       "idmove                     0\n",
       "idrecord                   0\n",
       "latitude             1652110\n",
       "longitude            1652110\n",
       "distance             1659830\n",
       "altitude              164350\n",
       "enhanced_altitude     164350\n",
       "cadence              2622810\n",
       "speed                 160138\n",
       "enhanced_speed        160138\n",
       "vertical_speed        187749\n",
       "heart_rate           1578767\n",
       "timestamp                  0\n",
       "dtype: int64"
      ]
     },
     "execution_count": 327,
     "metadata": {},
     "output_type": "execute_result"
    }
   ],
   "source": [
    "records.isnull().sum()"
   ]
  },
  {
   "cell_type": "markdown",
   "metadata": {},
   "source": [
    "As we could see in the cell above, there are a lot of null values due to:\n",
    "  * GPS signal lose\n",
    "  * Measurement errors of the heart rate monitor \n",
    "  * Other unknown issues\n",
    "\n",
    "1. Latitude/Longitude/Cadence are not a problem (we won't use them for the analysis)\n",
    "2. Altitude/Speed do are a problem\n",
    "3. Heart-rate could be filled with average values"
   ]
  },
  {
   "cell_type": "markdown",
   "metadata": {},
   "source": [
    "#### Cleaning Data and adding some missing information"
   ]
  },
  {
   "cell_type": "markdown",
   "metadata": {},
   "source": [
    "* Filling NaN Heart-rate values (Armand's watch) with his average heart rate"
   ]
  },
  {
   "cell_type": "code",
   "execution_count": 328,
   "metadata": {},
   "outputs": [],
   "source": [
    "records['heart_rate'].fillna(150.0, inplace=True)"
   ]
  },
  {
   "cell_type": "markdown",
   "metadata": {},
   "source": [
    "* Delete all the records with NaN values in Speed or Altitude categories (almost always both occur simultaneously)"
   ]
  },
  {
   "cell_type": "code",
   "execution_count": 329,
   "metadata": {},
   "outputs": [
    {
     "name": "stdout",
     "output_type": "stream",
     "text": [
      "deleted values (noise): 5.32 %\n"
     ]
    }
   ],
   "source": [
    "print(f'deleted values (noise): {round(len(records[records.altitude.isnull() | (records.speed.isnull())])/len(records)*100, 2)} %')"
   ]
  },
  {
   "cell_type": "code",
   "execution_count": 330,
   "metadata": {},
   "outputs": [],
   "source": [
    "records.drop(records[(records.altitude.isnull() | records.speed.isnull())].index, axis=0, inplace=True)"
   ]
  },
  {
   "cell_type": "markdown",
   "metadata": {},
   "source": [
    "* Fill NaN values in 'vertical_speed' with 0's"
   ]
  },
  {
   "cell_type": "code",
   "execution_count": 331,
   "metadata": {},
   "outputs": [],
   "source": [
    "records['vertical_speed'].fillna(0.0, inplace=True)"
   ]
  },
  {
   "cell_type": "markdown",
   "metadata": {},
   "source": [
    "* Converting speed (m/s) to pace (min/km)"
   ]
  },
  {
   "cell_type": "code",
   "execution_count": 349,
   "metadata": {},
   "outputs": [],
   "source": [
    "def converting_speed(x):\n",
    "    if x == 0.0:\n",
    "        return x\n",
    "    else:\n",
    "        return round(1000 / (x * 60), 2)"
   ]
  },
  {
   "cell_type": "code",
   "execution_count": 350,
   "metadata": {},
   "outputs": [],
   "source": [
    "records['pace'] = records.apply(lambda x: converting_speed(x['enhanced_speed']), axis = 1)"
   ]
  },
  {
   "cell_type": "code",
   "execution_count": 334,
   "metadata": {},
   "outputs": [
    {
     "data": {
      "text/plain": [
       "idmove                     0\n",
       "idrecord                   0\n",
       "latitude             1588003\n",
       "longitude            1588003\n",
       "distance             1499347\n",
       "altitude                   0\n",
       "enhanced_altitude          0\n",
       "cadence              2462829\n",
       "speed                      0\n",
       "enhanced_speed             0\n",
       "vertical_speed             0\n",
       "heart_rate                 0\n",
       "timestamp                  0\n",
       "pace                       0\n",
       "dtype: int64"
      ]
     },
     "execution_count": 334,
     "metadata": {},
     "output_type": "execute_result"
    }
   ],
   "source": [
    "records.isnull().sum()"
   ]
  },
  {
   "cell_type": "markdown",
   "metadata": {},
   "source": [
    "As we could see in the cell above, there are no important missing values in the dataframe anymore, so we can proceed to calcultate the total accumulated ascent for every record (3M). This ascent will be calculated according to these rules:\n",
    " 1. _When a point is higher than the previous one, we accumulate the ascent, otherwise the accumulated ascent is not modified_\n",
    " 2. _When the ***idmove*** changes, we restart the accumulated ascent (because it is a different activity)_"
   ]
  },
  {
   "cell_type": "markdown",
   "metadata": {},
   "source": [
    "* Applying function to add accumulated ascent to every remaining record"
   ]
  },
  {
   "cell_type": "code",
   "execution_count": 335,
   "metadata": {},
   "outputs": [],
   "source": [
    "records.reset_index(drop=True, inplace=True)"
   ]
  },
  {
   "cell_type": "code",
   "execution_count": 336,
   "metadata": {},
   "outputs": [],
   "source": [
    "accum_altitude = [0]\n",
    "accum_alt = 0\n",
    "for i in range(1, len(records)):\n",
    "    if records['idmove'].iloc[i] == records['idmove'].iloc[i-1]:\n",
    "        accum_alt += max(records['enhanced_altitude'].iloc[i] - records['enhanced_altitude'].iloc[i-1], 0)\n",
    "    else:\n",
    "        accum_alt = 0\n",
    "    accum_altitude.append(accum_alt)"
   ]
  },
  {
   "cell_type": "code",
   "execution_count": 337,
   "metadata": {},
   "outputs": [
    {
     "data": {
      "text/plain": [
       "True"
      ]
     },
     "execution_count": 337,
     "metadata": {},
     "output_type": "execute_result"
    }
   ],
   "source": [
    "len(accum_altitude) == len(records)"
   ]
  },
  {
   "cell_type": "markdown",
   "metadata": {},
   "source": [
    "_We get sure that we are getting the accumulated ascent for every records, in order to then do de aggregated maximum for each move_"
   ]
  },
  {
   "cell_type": "markdown",
   "metadata": {},
   "source": [
    "* Adding the column to the 'records' DataFrame"
   ]
  },
  {
   "cell_type": "code",
   "execution_count": 338,
   "metadata": {},
   "outputs": [],
   "source": [
    "records['accum_ascent'] = pd.Series(accum_altitude)"
   ]
  },
  {
   "cell_type": "markdown",
   "metadata": {},
   "source": [
    "#### Adding some information to the \"moves\" DataFrame\n",
    "* total ascent (according to aggregated maximum for all the records of the same move)\n",
    "* times in minutes instead of seconds\n",
    "* average pace in min/km (speed)"
   ]
  },
  {
   "cell_type": "markdown",
   "metadata": {},
   "source": [
    "##### * Calculating and merging the total ascent for each move"
   ]
  },
  {
   "cell_type": "code",
   "execution_count": 339,
   "metadata": {},
   "outputs": [],
   "source": [
    "accum_ascent = records[['idmove','accum_ascent']].groupby('idmove').max().reset_index()"
   ]
  },
  {
   "cell_type": "code",
   "execution_count": 340,
   "metadata": {},
   "outputs": [
    {
     "data": {
      "text/html": [
       "<div>\n",
       "<style scoped>\n",
       "    .dataframe tbody tr th:only-of-type {\n",
       "        vertical-align: middle;\n",
       "    }\n",
       "\n",
       "    .dataframe tbody tr th {\n",
       "        vertical-align: top;\n",
       "    }\n",
       "\n",
       "    .dataframe thead th {\n",
       "        text-align: right;\n",
       "    }\n",
       "</style>\n",
       "<table border=\"1\" class=\"dataframe\">\n",
       "  <thead>\n",
       "    <tr style=\"text-align: right;\">\n",
       "      <th></th>\n",
       "      <th>idmove</th>\n",
       "      <th>accum_ascent</th>\n",
       "    </tr>\n",
       "  </thead>\n",
       "  <tbody>\n",
       "    <tr>\n",
       "      <th>0</th>\n",
       "      <td>1</td>\n",
       "      <td>280.0</td>\n",
       "    </tr>\n",
       "    <tr>\n",
       "      <th>1</th>\n",
       "      <td>2</td>\n",
       "      <td>63.0</td>\n",
       "    </tr>\n",
       "    <tr>\n",
       "      <th>2</th>\n",
       "      <td>3</td>\n",
       "      <td>115.0</td>\n",
       "    </tr>\n",
       "    <tr>\n",
       "      <th>3</th>\n",
       "      <td>4</td>\n",
       "      <td>91.0</td>\n",
       "    </tr>\n",
       "    <tr>\n",
       "      <th>4</th>\n",
       "      <td>5</td>\n",
       "      <td>241.0</td>\n",
       "    </tr>\n",
       "  </tbody>\n",
       "</table>\n",
       "</div>"
      ],
      "text/plain": [
       "   idmove  accum_ascent\n",
       "0       1         280.0\n",
       "1       2          63.0\n",
       "2       3         115.0\n",
       "3       4          91.0\n",
       "4       5         241.0"
      ]
     },
     "execution_count": 340,
     "metadata": {},
     "output_type": "execute_result"
    }
   ],
   "source": [
    "accum_ascent.head()"
   ]
  },
  {
   "cell_type": "code",
   "execution_count": 341,
   "metadata": {},
   "outputs": [],
   "source": [
    "moves = moves.merge(accum_ascent, how = 'left', left_on='move', right_on = 'idmove').drop(columns='idmove')"
   ]
  },
  {
   "cell_type": "code",
   "execution_count": 342,
   "metadata": {},
   "outputs": [],
   "source": [
    "moves = moves[~ moves['accum_ascent'].isnull()]"
   ]
  },
  {
   "cell_type": "markdown",
   "metadata": {},
   "source": [
    "##### * Moving time in minutes"
   ]
  },
  {
   "cell_type": "code",
   "execution_count": 343,
   "metadata": {},
   "outputs": [],
   "source": [
    "moves['moving_time_min'] = moves.apply(lambda x: round(x['moving_time']/60.0, 1), axis=1)"
   ]
  },
  {
   "cell_type": "code",
   "execution_count": 344,
   "metadata": {},
   "outputs": [],
   "source": [
    "moves.drop(columns='moving_time', axis = 1, inplace=True)"
   ]
  },
  {
   "cell_type": "code",
   "execution_count": 345,
   "metadata": {},
   "outputs": [],
   "source": [
    "moves.rename(columns={'moving_time_min':'moving_time'}, inplace = True)"
   ]
  },
  {
   "cell_type": "markdown",
   "metadata": {},
   "source": [
    "###### * Average pace during the move (speed)"
   ]
  },
  {
   "cell_type": "code",
   "execution_count": 346,
   "metadata": {},
   "outputs": [],
   "source": [
    "moves['pace'] = moves.apply(lambda x: round(x['moving_time']/(x['distance']/1000), 2), axis=1)"
   ]
  },
  {
   "cell_type": "code",
   "execution_count": 347,
   "metadata": {},
   "outputs": [
    {
     "data": {
      "text/html": [
       "<div>\n",
       "<style scoped>\n",
       "    .dataframe tbody tr th:only-of-type {\n",
       "        vertical-align: middle;\n",
       "    }\n",
       "\n",
       "    .dataframe tbody tr th {\n",
       "        vertical-align: top;\n",
       "    }\n",
       "\n",
       "    .dataframe thead th {\n",
       "        text-align: right;\n",
       "    }\n",
       "</style>\n",
       "<table border=\"1\" class=\"dataframe\">\n",
       "  <thead>\n",
       "    <tr style=\"text-align: right;\">\n",
       "      <th></th>\n",
       "      <th>move</th>\n",
       "      <th>start_time</th>\n",
       "      <th>distance</th>\n",
       "      <th>calories</th>\n",
       "      <th>athlete</th>\n",
       "      <th>accum_ascent</th>\n",
       "      <th>moving_time</th>\n",
       "      <th>pace</th>\n",
       "    </tr>\n",
       "  </thead>\n",
       "  <tbody>\n",
       "    <tr>\n",
       "      <th>0</th>\n",
       "      <td>1</td>\n",
       "      <td>2017-07-02 09:46:40</td>\n",
       "      <td>4019.0</td>\n",
       "      <td>670.0</td>\n",
       "      <td>P</td>\n",
       "      <td>280.0</td>\n",
       "      <td>29.8</td>\n",
       "      <td>7.41</td>\n",
       "    </tr>\n",
       "    <tr>\n",
       "      <th>1</th>\n",
       "      <td>2</td>\n",
       "      <td>2017-07-02 10:32:23</td>\n",
       "      <td>4995.0</td>\n",
       "      <td>585.0</td>\n",
       "      <td>P</td>\n",
       "      <td>63.0</td>\n",
       "      <td>30.9</td>\n",
       "      <td>6.19</td>\n",
       "    </tr>\n",
       "    <tr>\n",
       "      <th>2</th>\n",
       "      <td>3</td>\n",
       "      <td>2017-07-19 17:49:13</td>\n",
       "      <td>4374.0</td>\n",
       "      <td>602.0</td>\n",
       "      <td>P</td>\n",
       "      <td>115.0</td>\n",
       "      <td>22.6</td>\n",
       "      <td>5.17</td>\n",
       "    </tr>\n",
       "    <tr>\n",
       "      <th>3</th>\n",
       "      <td>4</td>\n",
       "      <td>2017-07-20 17:56:41</td>\n",
       "      <td>3005.0</td>\n",
       "      <td>365.0</td>\n",
       "      <td>P</td>\n",
       "      <td>91.0</td>\n",
       "      <td>16.9</td>\n",
       "      <td>5.62</td>\n",
       "    </tr>\n",
       "    <tr>\n",
       "      <th>4</th>\n",
       "      <td>5</td>\n",
       "      <td>2017-07-24 16:17:34</td>\n",
       "      <td>6540.0</td>\n",
       "      <td>760.0</td>\n",
       "      <td>P</td>\n",
       "      <td>241.0</td>\n",
       "      <td>42.0</td>\n",
       "      <td>6.42</td>\n",
       "    </tr>\n",
       "  </tbody>\n",
       "</table>\n",
       "</div>"
      ],
      "text/plain": [
       "   move          start_time  distance  calories athlete  accum_ascent  \\\n",
       "0     1 2017-07-02 09:46:40    4019.0     670.0       P         280.0   \n",
       "1     2 2017-07-02 10:32:23    4995.0     585.0       P          63.0   \n",
       "2     3 2017-07-19 17:49:13    4374.0     602.0       P         115.0   \n",
       "3     4 2017-07-20 17:56:41    3005.0     365.0       P          91.0   \n",
       "4     5 2017-07-24 16:17:34    6540.0     760.0       P         241.0   \n",
       "\n",
       "   moving_time  pace  \n",
       "0         29.8  7.41  \n",
       "1         30.9  6.19  \n",
       "2         22.6  5.17  \n",
       "3         16.9  5.62  \n",
       "4         42.0  6.42  "
      ]
     },
     "execution_count": 347,
     "metadata": {},
     "output_type": "execute_result"
    }
   ],
   "source": [
    "moves.head()"
   ]
  },
  {
   "cell_type": "code",
   "execution_count": 351,
   "metadata": {},
   "outputs": [
    {
     "data": {
      "text/html": [
       "<div>\n",
       "<style scoped>\n",
       "    .dataframe tbody tr th:only-of-type {\n",
       "        vertical-align: middle;\n",
       "    }\n",
       "\n",
       "    .dataframe tbody tr th {\n",
       "        vertical-align: top;\n",
       "    }\n",
       "\n",
       "    .dataframe thead th {\n",
       "        text-align: right;\n",
       "    }\n",
       "</style>\n",
       "<table border=\"1\" class=\"dataframe\">\n",
       "  <thead>\n",
       "    <tr style=\"text-align: right;\">\n",
       "      <th></th>\n",
       "      <th>idmove</th>\n",
       "      <th>idrecord</th>\n",
       "      <th>latitude</th>\n",
       "      <th>longitude</th>\n",
       "      <th>distance</th>\n",
       "      <th>altitude</th>\n",
       "      <th>enhanced_altitude</th>\n",
       "      <th>cadence</th>\n",
       "      <th>speed</th>\n",
       "      <th>enhanced_speed</th>\n",
       "      <th>vertical_speed</th>\n",
       "      <th>heart_rate</th>\n",
       "      <th>timestamp</th>\n",
       "      <th>pace</th>\n",
       "      <th>accum_ascent</th>\n",
       "    </tr>\n",
       "  </thead>\n",
       "  <tbody>\n",
       "    <tr>\n",
       "      <th>0</th>\n",
       "      <td>1</td>\n",
       "      <td>6</td>\n",
       "      <td>495381218.0</td>\n",
       "      <td>28361471.0</td>\n",
       "      <td>14.0</td>\n",
       "      <td>3165.0</td>\n",
       "      <td>133.0</td>\n",
       "      <td>90.0</td>\n",
       "      <td>2100.0</td>\n",
       "      <td>2.1</td>\n",
       "      <td>0.0</td>\n",
       "      <td>110.0</td>\n",
       "      <td>2017-07-02 09:46:48</td>\n",
       "      <td>7.94</td>\n",
       "      <td>0.0</td>\n",
       "    </tr>\n",
       "    <tr>\n",
       "      <th>1</th>\n",
       "      <td>1</td>\n",
       "      <td>7</td>\n",
       "      <td>495381528.0</td>\n",
       "      <td>28361399.0</td>\n",
       "      <td>17.0</td>\n",
       "      <td>3165.0</td>\n",
       "      <td>133.0</td>\n",
       "      <td>90.0</td>\n",
       "      <td>2100.0</td>\n",
       "      <td>2.1</td>\n",
       "      <td>0.0</td>\n",
       "      <td>110.0</td>\n",
       "      <td>2017-07-02 09:46:49</td>\n",
       "      <td>7.94</td>\n",
       "      <td>0.0</td>\n",
       "    </tr>\n",
       "    <tr>\n",
       "      <th>2</th>\n",
       "      <td>1</td>\n",
       "      <td>8</td>\n",
       "      <td>495381826.0</td>\n",
       "      <td>28361339.0</td>\n",
       "      <td>20.0</td>\n",
       "      <td>3165.0</td>\n",
       "      <td>133.0</td>\n",
       "      <td>90.0</td>\n",
       "      <td>2500.0</td>\n",
       "      <td>2.5</td>\n",
       "      <td>0.0</td>\n",
       "      <td>110.0</td>\n",
       "      <td>2017-07-02 09:46:50</td>\n",
       "      <td>6.67</td>\n",
       "      <td>0.0</td>\n",
       "    </tr>\n",
       "    <tr>\n",
       "      <th>3</th>\n",
       "      <td>1</td>\n",
       "      <td>9</td>\n",
       "      <td>495382113.0</td>\n",
       "      <td>28361268.0</td>\n",
       "      <td>22.0</td>\n",
       "      <td>3170.0</td>\n",
       "      <td>134.0</td>\n",
       "      <td>90.0</td>\n",
       "      <td>2500.0</td>\n",
       "      <td>2.5</td>\n",
       "      <td>0.0</td>\n",
       "      <td>110.0</td>\n",
       "      <td>2017-07-02 09:46:51</td>\n",
       "      <td>6.67</td>\n",
       "      <td>1.0</td>\n",
       "    </tr>\n",
       "    <tr>\n",
       "      <th>4</th>\n",
       "      <td>1</td>\n",
       "      <td>10</td>\n",
       "      <td>495382411.0</td>\n",
       "      <td>28361184.0</td>\n",
       "      <td>25.0</td>\n",
       "      <td>3170.0</td>\n",
       "      <td>134.0</td>\n",
       "      <td>90.0</td>\n",
       "      <td>2600.0</td>\n",
       "      <td>2.6</td>\n",
       "      <td>0.0</td>\n",
       "      <td>110.0</td>\n",
       "      <td>2017-07-02 09:46:52</td>\n",
       "      <td>6.41</td>\n",
       "      <td>1.0</td>\n",
       "    </tr>\n",
       "  </tbody>\n",
       "</table>\n",
       "</div>"
      ],
      "text/plain": [
       "   idmove  idrecord     latitude   longitude  distance  altitude  \\\n",
       "0       1         6  495381218.0  28361471.0      14.0    3165.0   \n",
       "1       1         7  495381528.0  28361399.0      17.0    3165.0   \n",
       "2       1         8  495381826.0  28361339.0      20.0    3165.0   \n",
       "3       1         9  495382113.0  28361268.0      22.0    3170.0   \n",
       "4       1        10  495382411.0  28361184.0      25.0    3170.0   \n",
       "\n",
       "   enhanced_altitude  cadence   speed  enhanced_speed  vertical_speed  \\\n",
       "0              133.0     90.0  2100.0             2.1             0.0   \n",
       "1              133.0     90.0  2100.0             2.1             0.0   \n",
       "2              133.0     90.0  2500.0             2.5             0.0   \n",
       "3              134.0     90.0  2500.0             2.5             0.0   \n",
       "4              134.0     90.0  2600.0             2.6             0.0   \n",
       "\n",
       "   heart_rate           timestamp  pace  accum_ascent  \n",
       "0       110.0 2017-07-02 09:46:48  7.94           0.0  \n",
       "1       110.0 2017-07-02 09:46:49  7.94           0.0  \n",
       "2       110.0 2017-07-02 09:46:50  6.67           0.0  \n",
       "3       110.0 2017-07-02 09:46:51  6.67           1.0  \n",
       "4       110.0 2017-07-02 09:46:52  6.41           1.0  "
      ]
     },
     "execution_count": 351,
     "metadata": {},
     "output_type": "execute_result"
    }
   ],
   "source": [
    "records.head()"
   ]
  },
  {
   "cell_type": "markdown",
   "metadata": {},
   "source": [
    "### Exporting both DataFrames (\"records\" and \"moves\") to Google Cloud DB"
   ]
  },
  {
   "cell_type": "markdown",
   "metadata": {},
   "source": [
    "* For this purpose, we have created a library (rpdb) with some methods to import and export data from/to the database."
   ]
  },
  {
   "cell_type": "code",
   "execution_count": 359,
   "metadata": {},
   "outputs": [],
   "source": [
    "from rpdb import read_table, export_table"
   ]
  },
  {
   "cell_type": "code",
   "execution_count": 360,
   "metadata": {},
   "outputs": [],
   "source": [
    "# def export_table(dataframe, table, METHOD='replace')"
   ]
  },
  {
   "cell_type": "code",
   "execution_count": 361,
   "metadata": {},
   "outputs": [],
   "source": [
    "export_table(moves, table='moves')"
   ]
  },
  {
   "cell_type": "code",
   "execution_count": 362,
   "metadata": {},
   "outputs": [],
   "source": [
    "export_table(records, table='records')"
   ]
  }
 ],
 "metadata": {
  "kernelspec": {
   "display_name": "Python 3",
   "language": "python",
   "name": "python3"
  },
  "language_info": {
   "codemirror_mode": {
    "name": "ipython",
    "version": 3
   },
   "file_extension": ".py",
   "mimetype": "text/x-python",
   "name": "python",
   "nbconvert_exporter": "python",
   "pygments_lexer": "ipython3",
   "version": "3.7.1"
  }
 },
 "nbformat": 4,
 "nbformat_minor": 2
}
