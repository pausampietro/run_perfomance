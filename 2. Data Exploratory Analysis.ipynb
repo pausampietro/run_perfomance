{
 "cells": [
  {
   "cell_type": "markdown",
   "metadata": {},
   "source": [
    "# RUN PERFORMANCE PROJECT - Pau Sampietro"
   ]
  },
  {
   "cell_type": "markdown",
   "metadata": {},
   "source": [
    "## Data Exploratory Analysis & Visualization "
   ]
  },
  {
   "cell_type": "markdown",
   "metadata": {},
   "source": [
    "In this file we start doing some explorations over the data, performing some statistical analysis and giving some insights based on results and explanatory plots.\n",
    "Some of the hypothesis that we will demonstrate are: \n",
    " * Pace in track (min/km) is normally distributted for a given period of time. (Goodness of fit)\n",
    " * Comparison between Athletes: ***Armand*** is significantly faster than ***Pau***\n",
    " * The longer the run, the slower the pace\n",
    " * The more accumulated ascent, the higher heart rate\n",
    "    \n",
    "1. Descriptive statistics\n",
    "2. Explanatory plots and interactive visualizations\n",
    "3. Hypothesis testing, if needed"
   ]
  },
  {
   "cell_type": "code",
   "execution_count": 14,
   "metadata": {},
   "outputs": [],
   "source": [
    "import numpy as np\n",
    "import pandas as pd\n",
    "from scipy import stats\n",
    "import seaborn as sns\n",
    "import plotly.plotly as py\n",
    "import matplotlib.pyplot as plt\n",
    "import cufflinks as cf \n",
    "from ipywidgets import interact\n",
    "import plotly.graph_objs as go\n",
    "from rpdb import read_table, export_table"
   ]
  },
  {
   "cell_type": "markdown",
   "metadata": {},
   "source": [
    "### Import Data from the Google Cloud Database"
   ]
  },
  {
   "cell_type": "markdown",
   "metadata": {},
   "source": [
    "We start importing the \"moves\" table, in order to perform some exploratory analysis of the moves."
   ]
  },
  {
   "cell_type": "code",
   "execution_count": 5,
   "metadata": {},
   "outputs": [],
   "source": [
    "moves = read_table('moves')"
   ]
  },
  {
   "cell_type": "code",
   "execution_count": null,
   "metadata": {},
   "outputs": [],
   "source": []
  },
  {
   "cell_type": "markdown",
   "metadata": {},
   "source": [
    "### ***Moves.*** Descriptive Statistics & Visualizations"
   ]
  },
  {
   "cell_type": "code",
   "execution_count": 7,
   "metadata": {},
   "outputs": [
    {
     "data": {
      "text/html": [
       "<div>\n",
       "<style scoped>\n",
       "    .dataframe tbody tr th:only-of-type {\n",
       "        vertical-align: middle;\n",
       "    }\n",
       "\n",
       "    .dataframe tbody tr th {\n",
       "        vertical-align: top;\n",
       "    }\n",
       "\n",
       "    .dataframe thead th {\n",
       "        text-align: right;\n",
       "    }\n",
       "</style>\n",
       "<table border=\"1\" class=\"dataframe\">\n",
       "  <thead>\n",
       "    <tr style=\"text-align: right;\">\n",
       "      <th></th>\n",
       "      <th>index</th>\n",
       "      <th>move</th>\n",
       "      <th>distance</th>\n",
       "      <th>calories</th>\n",
       "      <th>accum_ascent</th>\n",
       "      <th>moving_time</th>\n",
       "      <th>pace</th>\n",
       "    </tr>\n",
       "  </thead>\n",
       "  <tbody>\n",
       "    <tr>\n",
       "      <th>count</th>\n",
       "      <td>813.000000</td>\n",
       "      <td>813.000000</td>\n",
       "      <td>813.000000</td>\n",
       "      <td>805.000000</td>\n",
       "      <td>813.000000</td>\n",
       "      <td>813.000000</td>\n",
       "      <td>813.000000</td>\n",
       "    </tr>\n",
       "    <tr>\n",
       "      <th>mean</th>\n",
       "      <td>406.000000</td>\n",
       "      <td>409.403444</td>\n",
       "      <td>11565.228782</td>\n",
       "      <td>980.472050</td>\n",
       "      <td>272.048462</td>\n",
       "      <td>65.041574</td>\n",
       "      <td>5.649705</td>\n",
       "    </tr>\n",
       "    <tr>\n",
       "      <th>std</th>\n",
       "      <td>234.837178</td>\n",
       "      <td>236.370080</td>\n",
       "      <td>9706.896844</td>\n",
       "      <td>913.117682</td>\n",
       "      <td>436.308980</td>\n",
       "      <td>71.739980</td>\n",
       "      <td>2.591408</td>\n",
       "    </tr>\n",
       "    <tr>\n",
       "      <th>min</th>\n",
       "      <td>0.000000</td>\n",
       "      <td>1.000000</td>\n",
       "      <td>29.000000</td>\n",
       "      <td>0.000000</td>\n",
       "      <td>0.000000</td>\n",
       "      <td>0.700000</td>\n",
       "      <td>3.560000</td>\n",
       "    </tr>\n",
       "    <tr>\n",
       "      <th>25%</th>\n",
       "      <td>203.000000</td>\n",
       "      <td>205.000000</td>\n",
       "      <td>6043.000000</td>\n",
       "      <td>511.000000</td>\n",
       "      <td>75.000000</td>\n",
       "      <td>32.100000</td>\n",
       "      <td>4.820000</td>\n",
       "    </tr>\n",
       "    <tr>\n",
       "      <th>50%</th>\n",
       "      <td>406.000000</td>\n",
       "      <td>409.000000</td>\n",
       "      <td>10026.000000</td>\n",
       "      <td>778.000000</td>\n",
       "      <td>160.000000</td>\n",
       "      <td>51.700000</td>\n",
       "      <td>5.110000</td>\n",
       "    </tr>\n",
       "    <tr>\n",
       "      <th>75%</th>\n",
       "      <td>609.000000</td>\n",
       "      <td>614.000000</td>\n",
       "      <td>14459.000000</td>\n",
       "      <td>1222.000000</td>\n",
       "      <td>325.400000</td>\n",
       "      <td>78.500000</td>\n",
       "      <td>5.580000</td>\n",
       "    </tr>\n",
       "    <tr>\n",
       "      <th>max</th>\n",
       "      <td>812.000000</td>\n",
       "      <td>817.000000</td>\n",
       "      <td>159600.000000</td>\n",
       "      <td>15485.000000</td>\n",
       "      <td>7922.600000</td>\n",
       "      <td>1357.400000</td>\n",
       "      <td>48.280000</td>\n",
       "    </tr>\n",
       "  </tbody>\n",
       "</table>\n",
       "</div>"
      ],
      "text/plain": [
       "            index        move       distance      calories  accum_ascent  \\\n",
       "count  813.000000  813.000000     813.000000    805.000000    813.000000   \n",
       "mean   406.000000  409.403444   11565.228782    980.472050    272.048462   \n",
       "std    234.837178  236.370080    9706.896844    913.117682    436.308980   \n",
       "min      0.000000    1.000000      29.000000      0.000000      0.000000   \n",
       "25%    203.000000  205.000000    6043.000000    511.000000     75.000000   \n",
       "50%    406.000000  409.000000   10026.000000    778.000000    160.000000   \n",
       "75%    609.000000  614.000000   14459.000000   1222.000000    325.400000   \n",
       "max    812.000000  817.000000  159600.000000  15485.000000   7922.600000   \n",
       "\n",
       "       moving_time        pace  \n",
       "count   813.000000  813.000000  \n",
       "mean     65.041574    5.649705  \n",
       "std      71.739980    2.591408  \n",
       "min       0.700000    3.560000  \n",
       "25%      32.100000    4.820000  \n",
       "50%      51.700000    5.110000  \n",
       "75%      78.500000    5.580000  \n",
       "max    1357.400000   48.280000  "
      ]
     },
     "execution_count": 7,
     "metadata": {},
     "output_type": "execute_result"
    }
   ],
   "source": [
    "moves.describe()"
   ]
  },
  {
   "cell_type": "code",
   "execution_count": 11,
   "metadata": {},
   "outputs": [
    {
     "data": {
      "text/plain": [
       "8530.279720279721"
      ]
     },
     "execution_count": 11,
     "metadata": {},
     "output_type": "execute_result"
    }
   ],
   "source": [
    "moves['distance'][moves.athlete=='P'].mean()"
   ]
  },
  {
   "cell_type": "code",
   "execution_count": 12,
   "metadata": {},
   "outputs": [
    {
     "data": {
      "text/plain": [
       "12212.986567164178"
      ]
     },
     "execution_count": 12,
     "metadata": {},
     "output_type": "execute_result"
    }
   ],
   "source": [
    "moves['distance'][moves.athlete=='A'].mean()"
   ]
  },
  {
   "cell_type": "code",
   "execution_count": 62,
   "metadata": {},
   "outputs": [
    {
     "data": {
      "image/png": "[encoded data removed]",
      "text/plain": [
       "<Figure size 720x576 with 1 Axes>"
      ]
     },
     "metadata": {
      "needs_background": "light"
     },
     "output_type": "display_data"
    }
   ],
   "source": [
    "# Fitting a normal distribution to the data:\n",
    "data_p = moves['pace'][(moves.pace > 2) & (moves.pace < 8) & (moves.athlete == 'P')]\n",
    "data_a = moves['pace'][(moves.pace > 2) & (moves.pace < 8) & (moves.athlete == 'A')]\n",
    "mu_p, std_p = stats.norm.fit(data_p)\n",
    "mu_a, std_a = stats.norm.fit(data_a)\n",
    "\n",
    "# Plotting Histograms for both Pau and Armand pacing\n",
    "plt.figure(figsize=(10,8))\n",
    "plt.hist(data_p, bins = 25, density=True, alpha=0.6, color='orange')\n",
    "plt.hist(data_a, bins = 25, density=True, alpha=0.8, color='turquoise')\n",
    "\n",
    "#Plotting normal distributions (PDF)\n",
    "xmin, xmax = plt.xlim()\n",
    "x = np.linspace(xmin, xmax, 100)\n",
    "p_p = stats.norm.pdf(x, mu_p, std_p)\n",
    "p_a = stats.norm.pdf(x, mu_a, std_a)\n",
    "plt.plot(x, p_p, 'k', linewidth=2, color = 'brown')\n",
    "plt.plot(x, p_a, 'k', linewidth=2, color = 'green')\n",
    "\n",
    "title = \"\"\"Fit results for Pau: mean = %.2f,  std = %.2f \\n Fit results for Armand: mean = %.2f,  std = %.2f\"\"\" % (mu_p, std_p, mu_a, std_a)\n",
    "plt.title('Pace (min/km)', fontsize = 16)\n",
    "plt.title(title, fontsize = 16)\n",
    "plt.show()\n"
   ]
  },
  {
   "cell_type": "code",
   "execution_count": null,
   "metadata": {},
   "outputs": [],
   "source": []
  },
  {
   "cell_type": "markdown",
   "metadata": {},
   "source": [
    "confidence intervals: loc= mean, scale = std"
   ]
  },
  {
   "cell_type": "code",
   "execution_count": null,
   "metadata": {},
   "outputs": [],
   "source": [
    "stats.norm.interval(0.95, loc=0, scale=1)"
   ]
  },
  {
   "cell_type": "markdown",
   "metadata": {},
   "source": [
    "one sample test"
   ]
  },
  {
   "cell_type": "code",
   "execution_count": null,
   "metadata": {},
   "outputs": [],
   "source": [
    "# Your code here:\n",
    "# Ho : are 30$/dollar\n",
    "# H1 : not really\n",
    "\n",
    "from scipy.stats import ttest_1samp\n",
    "\n",
    "stat, p = ttest_1samp(salaries['Hourly Rate'][ salaries['Hourly Rate'].isnull() == False],30)\n",
    "p"
   ]
  },
  {
   "cell_type": "markdown",
   "metadata": {},
   "source": [
    "function to perform 2 sample test in many features"
   ]
  },
  {
   "cell_type": "code",
   "execution_count": null,
   "metadata": {},
   "outputs": [],
   "source": [
    "def t_test_features(s1, s2, features=['HP', 'Attack', 'Defense', 'Sp. Atk', 'Sp. Def', 'Speed', 'Total']):\n",
    "    \"\"\"Test means of a feature set of two samples\n",
    "    \n",
    "    Args:\n",
    "        s1 (dataframe): sample 1\n",
    "        s2 (dataframe): sample 2\n",
    "        features (list): an array of features to test\n",
    "    \n",
    "    Returns:\n",
    "        dict: a dictionary of t-test scores for each feature where the feature name is the key and the p-value is the value\n",
    "    \"\"\"\n",
    "    results = {}\n",
    "\n",
    "    # Your code here\n",
    "    \n",
    "    return results"
   ]
  },
  {
   "cell_type": "markdown",
   "metadata": {},
   "source": [
    "We can conduct ANOVA test if std of armands move and paus moves are equal."
   ]
  },
  {
   "cell_type": "code",
   "execution_count": null,
   "metadata": {},
   "outputs": [],
   "source": []
  },
  {
   "cell_type": "code",
   "execution_count": null,
   "metadata": {},
   "outputs": [],
   "source": []
  },
  {
   "cell_type": "code",
   "execution_count": null,
   "metadata": {},
   "outputs": [],
   "source": [
    "cf.go_offline()\n",
    "trace_p = go.Scatter(\n",
    "    x=moves['distance'][moves.athlete == 'P'],\n",
    "    y=moves['moving_time'][moves.athlete == 'P'],\n",
    "    mode='markers',\n",
    "    marker=dict(size=12,\n",
    "                line=dict(width=1),\n",
    "                color='turquoise'\n",
    "               ),\n",
    "    name=\"Pau's moves\"\n",
    "    )\n",
    "trace_a = go.Scatter(\n",
    "    x=moves['distance'][moves.athlete == 'A'],\n",
    "    y=moves['moving_time'][moves.athlete == 'A'],\n",
    "    mode='markers',\n",
    "    marker=dict(size=12,\n",
    "                line=dict(width=1),\n",
    "                color='orange'\n",
    "               ),\n",
    "    name=\"Armand's moves\",\n",
    "    )\n",
    "data_comp = [trace_p, trace_a]\n",
    "\n",
    "layout_comp = go.Layout(\n",
    "    title=\"Pau and Armand's moves\",\n",
    "    hovermode='closest',\n",
    "    xaxis=dict(\n",
    "        title='distance(m)',\n",
    "        ticklen=5,\n",
    "        gridwidth=2,\n",
    "    ),\n",
    "    yaxis=dict(\n",
    "        title='moving time(s)',\n",
    "        ticklen=5,\n",
    "        gridwidth=2,\n",
    "    ),\n",
    ")\n",
    "fig_comp = go.Figure(data=data_comp, layout=layout_comp)\n",
    "fig_comp.iplot(filename='ap3')"
   ]
  }
 ],
 "metadata": {
  "kernelspec": {
   "display_name": "Python 3",
   "language": "python",
   "name": "python3"
  },
  "language_info": {
   "codemirror_mode": {
    "name": "ipython",
    "version": 3
   },
   "file_extension": ".py",
   "mimetype": "text/x-python",
   "name": "python",
   "nbconvert_exporter": "python",
   "pygments_lexer": "ipython3",
   "version": "3.7.1"
  }
 },
 "nbformat": 4,
 "nbformat_minor": 2
}
