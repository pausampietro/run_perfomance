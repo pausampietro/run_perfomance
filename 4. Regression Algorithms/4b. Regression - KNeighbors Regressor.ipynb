{
 "cells": [
  {
   "cell_type": "markdown",
   "metadata": {},
   "source": [
    "# RUN PERFORMANCE PROJECT - Pau Sampietro  "
   ]
  },
  {
   "cell_type": "markdown",
   "metadata": {},
   "source": [
    "## *Predicting future races:* K-NEIGHBORS REGRESSOR ALGORITHM"
   ]
  },
  {
   "cell_type": "markdown",
   "metadata": {},
   "source": [
    "In this notebook we will perform the K-Nearest Neighbors algorithm. In this case we have some options to manipulate hyperparameters, what could provide a better fitted model with our data. On the other hand, knowing how KNeighbors compute the regression, we think that the main problems will be:\n",
    "* As we have data of previous **short races** (10 km, 21 km) the algorithm will probably take this values as the nearest, giving as a prediction the same time performed for the athlete, which is not very useful.\n",
    "* As we do not have much more data of **long runs** (marathon), the nearest points won't be really accurate for predicting the result"
   ]
  },
  {
   "cell_type": "code",
   "execution_count": 2,
   "metadata": {},
   "outputs": [],
   "source": [
    "import numpy as np\n",
    "import pandas as pd\n",
    "import seaborn as sns\n",
    "import plotly.plotly as py\n",
    "import matplotlib.pyplot as plt\n",
    "import cufflinks as cf \n",
    "from ipywidgets import interact\n",
    "import plotly.graph_objs as go\n",
    "from rpdb import read_table, read_table_sql, export_table\n",
    "from datetime import datetime"
   ]
  },
  {
   "cell_type": "markdown",
   "metadata": {},
   "source": [
    "#### Import tables of filtered moves  and scheduled races to predict from the Database "
   ]
  },
  {
   "cell_type": "code",
   "execution_count": 3,
   "metadata": {},
   "outputs": [
    {
     "data": {
      "text/html": [
       "<div>\n",
       "<style scoped>\n",
       "    .dataframe tbody tr th:only-of-type {\n",
       "        vertical-align: middle;\n",
       "    }\n",
       "\n",
       "    .dataframe tbody tr th {\n",
       "        vertical-align: top;\n",
       "    }\n",
       "\n",
       "    .dataframe thead th {\n",
       "        text-align: right;\n",
       "    }\n",
       "</style>\n",
       "<table border=\"1\" class=\"dataframe\">\n",
       "  <thead>\n",
       "    <tr style=\"text-align: right;\">\n",
       "      <th></th>\n",
       "      <th>index</th>\n",
       "      <th>distance</th>\n",
       "      <th>accum_ascent</th>\n",
       "      <th>ascent_ratio</th>\n",
       "      <th>calories</th>\n",
       "      <th>heart_rate</th>\n",
       "      <th>days_from</th>\n",
       "      <th>moving_time</th>\n",
       "    </tr>\n",
       "  </thead>\n",
       "  <tbody>\n",
       "    <tr>\n",
       "      <th>0</th>\n",
       "      <td>0</td>\n",
       "      <td>4019.0</td>\n",
       "      <td>280.0</td>\n",
       "      <td>69.7</td>\n",
       "      <td>670.0</td>\n",
       "      <td>166.0</td>\n",
       "      <td>659</td>\n",
       "      <td>29.8</td>\n",
       "    </tr>\n",
       "    <tr>\n",
       "      <th>1</th>\n",
       "      <td>1</td>\n",
       "      <td>4995.0</td>\n",
       "      <td>63.0</td>\n",
       "      <td>12.6</td>\n",
       "      <td>585.0</td>\n",
       "      <td>168.0</td>\n",
       "      <td>659</td>\n",
       "      <td>30.9</td>\n",
       "    </tr>\n",
       "    <tr>\n",
       "      <th>2</th>\n",
       "      <td>2</td>\n",
       "      <td>4374.0</td>\n",
       "      <td>115.0</td>\n",
       "      <td>26.3</td>\n",
       "      <td>602.0</td>\n",
       "      <td>180.0</td>\n",
       "      <td>642</td>\n",
       "      <td>22.6</td>\n",
       "    </tr>\n",
       "    <tr>\n",
       "      <th>3</th>\n",
       "      <td>3</td>\n",
       "      <td>3005.0</td>\n",
       "      <td>91.0</td>\n",
       "      <td>30.3</td>\n",
       "      <td>365.0</td>\n",
       "      <td>167.0</td>\n",
       "      <td>641</td>\n",
       "      <td>16.9</td>\n",
       "    </tr>\n",
       "    <tr>\n",
       "      <th>4</th>\n",
       "      <td>4</td>\n",
       "      <td>6540.0</td>\n",
       "      <td>241.0</td>\n",
       "      <td>36.9</td>\n",
       "      <td>760.0</td>\n",
       "      <td>161.0</td>\n",
       "      <td>637</td>\n",
       "      <td>42.0</td>\n",
       "    </tr>\n",
       "  </tbody>\n",
       "</table>\n",
       "</div>"
      ],
      "text/plain": [
       "   index  distance  accum_ascent  ascent_ratio  calories  heart_rate  \\\n",
       "0      0    4019.0         280.0          69.7     670.0       166.0   \n",
       "1      1    4995.0          63.0          12.6     585.0       168.0   \n",
       "2      2    4374.0         115.0          26.3     602.0       180.0   \n",
       "3      3    3005.0          91.0          30.3     365.0       167.0   \n",
       "4      4    6540.0         241.0          36.9     760.0       161.0   \n",
       "\n",
       "   days_from  moving_time  \n",
       "0        659         29.8  \n",
       "1        659         30.9  \n",
       "2        642         22.6  \n",
       "3        641         16.9  \n",
       "4        637         42.0  "
      ]
     },
     "execution_count": 3,
     "metadata": {},
     "output_type": "execute_result"
    }
   ],
   "source": [
    "moves_feat = read_table('moves_feat')\n",
    "moves_feat.head()"
   ]
  },
  {
   "cell_type": "code",
   "execution_count": 4,
   "metadata": {},
   "outputs": [
    {
     "data": {
      "text/html": [
       "<div>\n",
       "<style scoped>\n",
       "    .dataframe tbody tr th:only-of-type {\n",
       "        vertical-align: middle;\n",
       "    }\n",
       "\n",
       "    .dataframe tbody tr th {\n",
       "        vertical-align: top;\n",
       "    }\n",
       "\n",
       "    .dataframe thead th {\n",
       "        text-align: right;\n",
       "    }\n",
       "</style>\n",
       "<table border=\"1\" class=\"dataframe\">\n",
       "  <thead>\n",
       "    <tr style=\"text-align: right;\">\n",
       "      <th></th>\n",
       "      <th>index</th>\n",
       "      <th>name</th>\n",
       "      <th>distance</th>\n",
       "      <th>accum_ascent</th>\n",
       "      <th>days_from</th>\n",
       "      <th>lr_pred</th>\n",
       "    </tr>\n",
       "  </thead>\n",
       "  <tbody>\n",
       "    <tr>\n",
       "      <th>0</th>\n",
       "      <td>0</td>\n",
       "      <td>delta prat</td>\n",
       "      <td>10000.0</td>\n",
       "      <td>25.0</td>\n",
       "      <td>-13</td>\n",
       "      <td>36.639508</td>\n",
       "    </tr>\n",
       "    <tr>\n",
       "      <th>1</th>\n",
       "      <td>1</td>\n",
       "      <td>catllaras</td>\n",
       "      <td>42300.0</td>\n",
       "      <td>2700.0</td>\n",
       "      <td>-27</td>\n",
       "      <td>452.950483</td>\n",
       "    </tr>\n",
       "    <tr>\n",
       "      <th>2</th>\n",
       "      <td>2</td>\n",
       "      <td>stockholm</td>\n",
       "      <td>42195.0</td>\n",
       "      <td>172.0</td>\n",
       "      <td>-40</td>\n",
       "      <td>163.870622</td>\n",
       "    </tr>\n",
       "    <tr>\n",
       "      <th>3</th>\n",
       "      <td>3</td>\n",
       "      <td>ulldeter</td>\n",
       "      <td>21000.0</td>\n",
       "      <td>1300.0</td>\n",
       "      <td>-62</td>\n",
       "      <td>219.990278</td>\n",
       "    </tr>\n",
       "  </tbody>\n",
       "</table>\n",
       "</div>"
      ],
      "text/plain": [
       "   index        name  distance  accum_ascent  days_from     lr_pred\n",
       "0      0  delta prat   10000.0          25.0        -13   36.639508\n",
       "1      1   catllaras   42300.0        2700.0        -27  452.950483\n",
       "2      2   stockholm   42195.0         172.0        -40  163.870622\n",
       "3      3    ulldeter   21000.0        1300.0        -62  219.990278"
      ]
     },
     "execution_count": 4,
     "metadata": {},
     "output_type": "execute_result"
    }
   ],
   "source": [
    "races = read_table('races')\n",
    "races"
   ]
  },
  {
   "cell_type": "markdown",
   "metadata": {},
   "source": [
    "### 1. K-Nearest Neighbors Algorithm model"
   ]
  },
  {
   "cell_type": "markdown",
   "metadata": {},
   "source": [
    "#### 1.1. Fitting KNeighbors preliminar model (default parameter: k = 3)"
   ]
  },
  {
   "cell_type": "code",
   "execution_count": 5,
   "metadata": {},
   "outputs": [],
   "source": [
    "from sklearn.model_selection import train_test_split\n",
    "from sklearn.neighbors import KNeighborsRegressor\n",
    "from sklearn.metrics import r2_score, mean_squared_error\n",
    "from sklearn.model_selection import cross_val_score"
   ]
  },
  {
   "cell_type": "code",
   "execution_count": 6,
   "metadata": {},
   "outputs": [],
   "source": [
    "X = moves_feat.drop(columns='moving_time')\n",
    "y = moves_feat['moving_time']\n",
    "X_train, X_test, y_train, y_test = train_test_split(X, y, test_size=0.2, random_state = 32)"
   ]
  },
  {
   "cell_type": "code",
   "execution_count": 7,
   "metadata": {},
   "outputs": [],
   "source": [
    "KN_reg = KNeighborsRegressor(n_neighbors=5)\n",
    "KN_reg.fit(X_train, y_train)\n",
    "\n",
    "# predictions done with the model\n",
    "y_pred = KN_reg.predict(X_test)"
   ]
  },
  {
   "cell_type": "code",
   "execution_count": 8,
   "metadata": {},
   "outputs": [
    {
     "name": "stdout",
     "output_type": "stream",
     "text": [
      "* Mean squared error: 523.17\n",
      "* Variance score: 0.61\n"
     ]
    }
   ],
   "source": [
    "# Printing the metrics for the model\n",
    "print(\"* Mean squared error: %.2f\"\n",
    "      % mean_squared_error(y_test, y_pred))\n",
    "print('* Variance score: %.2f' % r2_score(y_test, y_pred))"
   ]
  },
  {
   "cell_type": "markdown",
   "metadata": {},
   "source": [
    "*As we can see, the result of the r2 score is lower than with linear regression. As we could see in the clustering preliminar analysis, looking for the neighbors not always returns good results when the moves are not strictly separated.* The MSE is also too high."
   ]
  },
  {
   "cell_type": "markdown",
   "metadata": {},
   "source": [
    "* Performing a **cross-validated** score"
   ]
  },
  {
   "cell_type": "code",
   "execution_count": 9,
   "metadata": {},
   "outputs": [
    {
     "name": "stdout",
     "output_type": "stream",
     "text": [
      "* CV scores: [0.91045739 0.87493182 0.82630386 0.59678034 0.47977652]\n",
      "* Mean Variance score: 0.74\n"
     ]
    }
   ],
   "source": [
    "scores = cross_val_score(KN_reg, X,  y, cv=5)\n",
    "print(f'* CV scores: {scores}')\n",
    "print('* Mean Variance score: %.2f' % scores.mean())"
   ]
  },
  {
   "cell_type": "markdown",
   "metadata": {},
   "source": [
    "#### 1.2. Hyperparameter tuning (K-Neighbors and weights)"
   ]
  },
  {
   "cell_type": "markdown",
   "metadata": {},
   "source": [
    "In the cells below we loop over some combination of hyperparameters of the algorithm, in order to improve the results of the model. We also plot the best combinations of hyperparameters, whose are giving the most accurate results based on the same metrics as in linear regression (R2 score)"
   ]
  },
  {
   "cell_type": "code",
   "execution_count": 11,
   "metadata": {
    "scrolled": false
   },
   "outputs": [],
   "source": [
    "# Selecting as a training features those that we will have as input for predictions\n",
    "X = X[['accum_ascent','distance']]\n",
    "\n",
    "neighbors = list(range(1,50,2))\n",
    "scores_u = []\n",
    "scores_d = []\n",
    "cross_sc_std_u = []\n",
    "cross_sc_std_d = []\n",
    "\n",
    "# perform 10-fold cross validation\n",
    "for k in neighbors:\n",
    "    knn = KNeighborsRegressor(n_neighbors = k, weights = 'uniform')\n",
    "    scores = cross_val_score(knn, X, y, cv=7)\n",
    "    scores_u.append(scores.mean())\n",
    "    cross_sc_std_u.append(scores.std())\n",
    "\n",
    "    knn = KNeighborsRegressor(n_neighbors = k, weights = 'distance')\n",
    "    scores = cross_val_score(knn, X, y, cv=7)\n",
    "    scores_d.append(scores.mean())\n",
    "    cross_sc_std_d.append(scores.std())   "
   ]
  },
  {
   "cell_type": "code",
   "execution_count": 12,
   "metadata": {
    "scrolled": false
   },
   "outputs": [
    {
     "data": {
      "image/png": "[encoded data removed]",
      "text/plain": [
       "<Figure size 1080x504 with 2 Axes>"
      ]
     },
     "metadata": {
      "needs_background": "light"
     },
     "output_type": "display_data"
    },
    {
     "name": "stdout",
     "output_type": "stream",
     "text": [
      "* With \"uniform\" optimal k = 1 with Mean Score = 0.8191791613709306. Stdev scores = 0.15037282173813027\n",
      "* With \"distance\" optimal k = 1 with Mean Score = 0.8191791613709306. Stdev scores = 0.15037282173813027\n"
     ]
    }
   ],
   "source": [
    "Err_u = [1-x for x in scores_u]\n",
    "Err_d = [1-x for x in scores_d]\n",
    "\n",
    "# plot error vs k and standard deviation of scores vs. k.\n",
    "f, (ax1, ax2) = plt.subplots(1, 2, figsize=(15,7))\n",
    "\n",
    "ax1.plot(neighbors, Err_u)\n",
    "ax1.plot(neighbors, Err_d)\n",
    "ax1.set_xlabel('Number of Neighbors K')\n",
    "ax1.set_ylabel('Error (1 - r2 score)')\n",
    "ax1.legend(['uniform','distance'])\n",
    "ax1.set_title('Error vs. k', fontsize = 16)\n",
    "\n",
    "ax2.plot(neighbors, cross_sc_std_u)\n",
    "ax2.plot(neighbors, cross_sc_std_d)\n",
    "ax2.set_xlabel('Number of Neighbors K')\n",
    "ax2.set_ylabel('Stdev of scores (Cross-Validation)')\n",
    "ax2.legend(['uniform','distance'])\n",
    "ax2.set_title('Standard deviation of scores vs. k', fontsize = 16)\n",
    "\n",
    "plt.show()\n",
    "\n",
    "print(f'* With \"uniform\" optimal k = {neighbors[Err_u.index(min(Err_u))]} with Mean Score = {1-min(Err_u)}. Stdev scores = {cross_sc_std_u[Err_u.index(min(Err_u))]}')\n",
    "print(f'* With \"distance\" optimal k = {neighbors[Err_d.index(min(Err_d))]} with Mean Score = {1-min(Err_d)}. Stdev scores = {cross_sc_std_d[Err_d.index(min(Err_d))]}')\n"
   ]
  },
  {
   "cell_type": "markdown",
   "metadata": {},
   "source": [
    "As we can see, now we obtain better results, and they are both similar with both 'uniform' and 'distance' weighting of the data. All of this calculations are based on the Train set (the races that have been already done). Once we fit the optimal model, we will predict future races in the cells below."
   ]
  },
  {
   "cell_type": "markdown",
   "metadata": {},
   "source": [
    "* *Analyzing **stability of r2 scores** during cross-validation*"
   ]
  },
  {
   "cell_type": "code",
   "execution_count": 13,
   "metadata": {},
   "outputs": [
    {
     "data": {
      "image/png": "[encoded data removed]",
      "text/plain": [
       "<Figure size 504x360 with 1 Axes>"
      ]
     },
     "metadata": {
      "needs_background": "light"
     },
     "output_type": "display_data"
    }
   ],
   "source": [
    "knn = KNeighborsRegressor(n_neighbors = 1, weights = 'uniform')\n",
    "scores = cross_val_score(knn, X, y, cv=7)\n",
    "plt.figure(figsize=(7,5))\n",
    "plt.plot(range(7), scores)\n",
    "plt.plot(range(7), [scores.mean() for i in range(7)], 'r',  linestyle=':')\n",
    "plt.xlabel('Num. of Validation')\n",
    "plt.ylabel('r2 score')\n",
    "plt.title('R2 scores with Cross-Validation for k = 1', fontsize = 16)\n",
    "plt.legend(['r2 scores','avg r2 score'], loc=6)\n",
    "plt.show()"
   ]
  },
  {
   "cell_type": "markdown",
   "metadata": {},
   "source": [
    "Note that having a spreaded r2 score while doing cross-validation is not good, and we are probably overfitting some data and the model is not good enought to generalize"
   ]
  },
  {
   "cell_type": "markdown",
   "metadata": {},
   "source": [
    "#### 1.3. Calculating predictions for next given races with actual model:"
   ]
  },
  {
   "cell_type": "markdown",
   "metadata": {},
   "source": [
    "Predictions are for the following races:\n",
    "* Delta Prat Race: 10 km, 25 m ascent, 5 may 2019\n",
    "* Marathon Catllaràs: 42 km, 2700 m ascent, 19 may 2019\n",
    "* Stockholm Marathon: 42 km, 172 m ascent, 1 june 2019\n",
    "* Trail Ulldeter: 21 km, 1300 m ascent, 23 june 2019"
   ]
  },
  {
   "cell_type": "code",
   "execution_count": 14,
   "metadata": {},
   "outputs": [
    {
     "name": "stdout",
     "output_type": "stream",
     "text": [
      "* KN predictions for given races: [ 43.5 321.  321.  115.4]\n"
     ]
    }
   ],
   "source": [
    "KN_reg_optimal = KNeighborsRegressor(n_neighbors=1, weights='uniform')\n",
    "KN_reg_optimal.fit(X, y)\n",
    "\n",
    "races_kn_pred = KN_reg_optimal.predict(races[['accum_ascent','distance']])\n",
    "print(f'* KN predictions for given races: {races_kn_pred}')"
   ]
  },
  {
   "cell_type": "markdown",
   "metadata": {},
   "source": [
    "* Including results of KN regression predictions in the races dataframe"
   ]
  },
  {
   "cell_type": "code",
   "execution_count": 15,
   "metadata": {},
   "outputs": [],
   "source": [
    "races = read_table('races')\n",
    "races['kn_pred'] = races_kn_pred\n",
    "export_table(races.drop(columns='index'), 'races')"
   ]
  },
  {
   "cell_type": "markdown",
   "metadata": {},
   "source": [
    "*** *COMMENTS***: The r2 score of this model is lower than with Linear regression. However, the results above shows some interesting conclusions in accordance with hypothesis explained at the beginning: \n",
    "* 10k race is predicted almost perfectly. **Delta Prat 10k: 43.5 min** (This is, in fact, Pau's personal best!!!)\n",
    "* Long races (both Cross-country and urban) are the worst predictions as we do not have much near data."
   ]
  }
 ],
 "metadata": {
  "kernelspec": {
   "display_name": "Python 3",
   "language": "python",
   "name": "python3"
  },
  "language_info": {
   "codemirror_mode": {
    "name": "ipython",
    "version": 3
   },
   "file_extension": ".py",
   "mimetype": "text/x-python",
   "name": "python",
   "nbconvert_exporter": "python",
   "pygments_lexer": "ipython3",
   "version": "3.7.3"
  }
 },
 "nbformat": 4,
 "nbformat_minor": 2
}
