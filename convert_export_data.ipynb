{
 "cells": [
  {
   "cell_type": "markdown",
   "metadata": {},
   "source": [
    "#### Imports"
   ]
  },
  {
   "cell_type": "code",
   "execution_count": 2,
   "metadata": {},
   "outputs": [],
   "source": [
    "import sys\n",
    "from fitparse import FitFile\n",
    "import os\n",
    "import pandas as pd\n",
    "import pymysql\n",
    "from sqlalchemy import create_engine"
   ]
  },
  {
   "cell_type": "markdown",
   "metadata": {},
   "source": [
    "#### Getting Path of all running moves"
   ]
  },
  {
   "cell_type": "code",
   "execution_count": 33,
   "metadata": {},
   "outputs": [
    {
     "data": {
      "text/plain": [
       "['C:/Users/Pau Sampietro/Desktop/IRONHACK/Movescount_data/Moves/Move_2017_07_02_11_46_40_Running.fit',\n",
       " 'C:/Users/Pau Sampietro/Desktop/IRONHACK/Movescount_data/Moves/Move_2017_07_02_12_32_23_Running.fit',\n",
       " 'C:/Users/Pau Sampietro/Desktop/IRONHACK/Movescount_data/Moves/Move_2017_07_19_19_49_13_Running.fit',\n",
       " 'C:/Users/Pau Sampietro/Desktop/IRONHACK/Movescount_data/Moves/Move_2017_07_20_19_56_41_Running.fit',\n",
       " 'C:/Users/Pau Sampietro/Desktop/IRONHACK/Movescount_data/Moves/Move_2017_07_24_18_17_34_Running.fit']"
      ]
     },
     "execution_count": 33,
     "metadata": {},
     "output_type": "execute_result"
    }
   ],
   "source": [
    "# Pau's activities\n",
    "directory = 'C:/Users/Pau Sampietro/Desktop/IRONHACK/Movescount_data/Moves/'\n",
    "running_files = []\n",
    "for filename in os.listdir(directory):\n",
    "    if filename.endswith('Running.fit') : \n",
    "        running_files.append(os.path.join(directory, filename))\n",
    "        \n",
    "# Armand's activities\n",
    "directory = 'C:/Users/Pau Sampietro/Desktop/IRONHACK/Movescount_data/Moves_A/'\n",
    "for filename in os.listdir(directory):\n",
    "    if filename.endswith('Running.fit') : \n",
    "        running_files.append(os.path.join(directory, filename))\n",
    "                \n",
    "running_files[:5]"
   ]
  },
  {
   "cell_type": "markdown",
   "metadata": {},
   "source": [
    "#### Creating DataFrame with all the data from the watch (Table: \"records\")"
   ]
  },
  {
   "cell_type": "code",
   "execution_count": 34,
   "metadata": {
    "scrolled": true
   },
   "outputs": [],
   "source": [
    "# Initializing categories we want to store\n",
    "ls_move_code = []\n",
    "ls_record_code = []\n",
    "ls_altitude = []\n",
    "ls_cadence = []\n",
    "ls_distance = []\n",
    "ls_enhanced_altitude = []\n",
    "ls_enhanced_speed = []\n",
    "ls_heart_rate = []\n",
    "ls_position_lat = []\n",
    "ls_position_long = []\n",
    "ls_speed = []\n",
    "ls_timestamp = []\n",
    "ls_vertical_speed = []\n",
    "\n",
    "move_code = 1\n",
    "for filepath in running_files:\n",
    "    fitfile = FitFile(filepath)\n",
    "    # Get all data messages that are of type record\n",
    "    record_code = 1\n",
    "    for record in fitfile.get_messages('record'):\n",
    "        # Go through all the data entries in this record and fill the lists\n",
    "        ls_move_code.append(move_code)\n",
    "        ls_record_code.append(record_code)\n",
    "        ls_altitude.append(record.get_value('altitude'))\n",
    "        ls_cadence.append(record.get_value('cadence'))\n",
    "        ls_distance.append(record.get_value('distance'))\n",
    "        ls_enhanced_altitude.append(record.get_value('enhanced_altitude'))\n",
    "        ls_enhanced_speed.append(record.get_value('enhanced_speed'))\n",
    "        ls_heart_rate.append(record.get_value('heart_rate'))\n",
    "        ls_position_lat.append(record.get_value('position_lat'))\n",
    "        ls_position_long.append(record.get_value('position_long'))\n",
    "        ls_speed.append(record.get_value('speed'))\n",
    "        ls_timestamp.append(record.get_value('timestamp'))\n",
    "        ls_vertical_speed.append(record.get_value('vertical_speed'))\n",
    "        record_code += 1\n",
    "        \n",
    "    move_code += 1"
   ]
  },
  {
   "cell_type": "code",
   "execution_count": 39,
   "metadata": {},
   "outputs": [],
   "source": [
    "# Creating DF with all the records from all the moves\n",
    "records = pd.DataFrame({'idmove': ls_move_code,\n",
    "                        'idrecord': ls_record_code,\n",
    "                        'latitude': ls_position_lat,\n",
    "                        'longitude': ls_position_long,\n",
    "                        'distance': ls_distance,\n",
    "                        'altitude': ls_altitude,\n",
    "                        'enhanced_altitude': ls_enhanced_altitude,\n",
    "                        'cadence': ls_cadence,\n",
    "                        'speed': ls_speed,\n",
    "                        'enhanced_speed': ls_enhanced_speed,\n",
    "                        'vertical_speed': ls_vertical_speed,\n",
    "                        'heart_rate': ls_heart_rate,\n",
    "                        'timestamp': ls_timestamp \n",
    "                       })"
   ]
  },
  {
   "cell_type": "code",
   "execution_count": 41,
   "metadata": {},
   "outputs": [
    {
     "data": {
      "text/html": [
       "<div>\n",
       "<style scoped>\n",
       "    .dataframe tbody tr th:only-of-type {\n",
       "        vertical-align: middle;\n",
       "    }\n",
       "\n",
       "    .dataframe tbody tr th {\n",
       "        vertical-align: top;\n",
       "    }\n",
       "\n",
       "    .dataframe thead th {\n",
       "        text-align: right;\n",
       "    }\n",
       "</style>\n",
       "<table border=\"1\" class=\"dataframe\">\n",
       "  <thead>\n",
       "    <tr style=\"text-align: right;\">\n",
       "      <th></th>\n",
       "      <th>idmove</th>\n",
       "      <th>idrecord</th>\n",
       "      <th>latitude</th>\n",
       "      <th>longitude</th>\n",
       "      <th>distance</th>\n",
       "      <th>altitude</th>\n",
       "      <th>enhanced_altitude</th>\n",
       "      <th>cadence</th>\n",
       "      <th>speed</th>\n",
       "      <th>enhanced_speed</th>\n",
       "      <th>vertical_speed</th>\n",
       "      <th>heart_rate</th>\n",
       "      <th>timestamp</th>\n",
       "    </tr>\n",
       "  </thead>\n",
       "  <tbody>\n",
       "    <tr>\n",
       "      <th>0</th>\n",
       "      <td>1</td>\n",
       "      <td>1</td>\n",
       "      <td>495379858.0</td>\n",
       "      <td>28361936.0</td>\n",
       "      <td>NaN</td>\n",
       "      <td>NaN</td>\n",
       "      <td>NaN</td>\n",
       "      <td>NaN</td>\n",
       "      <td>NaN</td>\n",
       "      <td>NaN</td>\n",
       "      <td>NaN</td>\n",
       "      <td>NaN</td>\n",
       "      <td>2017-07-02 09:46:42</td>\n",
       "    </tr>\n",
       "    <tr>\n",
       "      <th>1</th>\n",
       "      <td>1</td>\n",
       "      <td>2</td>\n",
       "      <td>495380072.0</td>\n",
       "      <td>28361805.0</td>\n",
       "      <td>NaN</td>\n",
       "      <td>NaN</td>\n",
       "      <td>NaN</td>\n",
       "      <td>NaN</td>\n",
       "      <td>NaN</td>\n",
       "      <td>NaN</td>\n",
       "      <td>NaN</td>\n",
       "      <td>NaN</td>\n",
       "      <td>2017-07-02 09:46:43</td>\n",
       "    </tr>\n",
       "    <tr>\n",
       "      <th>2</th>\n",
       "      <td>1</td>\n",
       "      <td>3</td>\n",
       "      <td>495380502.0</td>\n",
       "      <td>28361626.0</td>\n",
       "      <td>NaN</td>\n",
       "      <td>NaN</td>\n",
       "      <td>NaN</td>\n",
       "      <td>NaN</td>\n",
       "      <td>NaN</td>\n",
       "      <td>NaN</td>\n",
       "      <td>NaN</td>\n",
       "      <td>NaN</td>\n",
       "      <td>2017-07-02 09:46:45</td>\n",
       "    </tr>\n",
       "    <tr>\n",
       "      <th>3</th>\n",
       "      <td>1</td>\n",
       "      <td>4</td>\n",
       "      <td>495380729.0</td>\n",
       "      <td>28361554.0</td>\n",
       "      <td>NaN</td>\n",
       "      <td>NaN</td>\n",
       "      <td>NaN</td>\n",
       "      <td>NaN</td>\n",
       "      <td>NaN</td>\n",
       "      <td>NaN</td>\n",
       "      <td>NaN</td>\n",
       "      <td>NaN</td>\n",
       "      <td>2017-07-02 09:46:46</td>\n",
       "    </tr>\n",
       "    <tr>\n",
       "      <th>4</th>\n",
       "      <td>1</td>\n",
       "      <td>5</td>\n",
       "      <td>495380955.0</td>\n",
       "      <td>28361518.0</td>\n",
       "      <td>NaN</td>\n",
       "      <td>NaN</td>\n",
       "      <td>NaN</td>\n",
       "      <td>NaN</td>\n",
       "      <td>NaN</td>\n",
       "      <td>NaN</td>\n",
       "      <td>NaN</td>\n",
       "      <td>NaN</td>\n",
       "      <td>2017-07-02 09:46:47</td>\n",
       "    </tr>\n",
       "  </tbody>\n",
       "</table>\n",
       "</div>"
      ],
      "text/plain": [
       "   idmove  idrecord     latitude   longitude  distance  altitude  \\\n",
       "0       1         1  495379858.0  28361936.0       NaN       NaN   \n",
       "1       1         2  495380072.0  28361805.0       NaN       NaN   \n",
       "2       1         3  495380502.0  28361626.0       NaN       NaN   \n",
       "3       1         4  495380729.0  28361554.0       NaN       NaN   \n",
       "4       1         5  495380955.0  28361518.0       NaN       NaN   \n",
       "\n",
       "   enhanced_altitude  cadence  speed  enhanced_speed  vertical_speed  \\\n",
       "0                NaN      NaN    NaN             NaN             NaN   \n",
       "1                NaN      NaN    NaN             NaN             NaN   \n",
       "2                NaN      NaN    NaN             NaN             NaN   \n",
       "3                NaN      NaN    NaN             NaN             NaN   \n",
       "4                NaN      NaN    NaN             NaN             NaN   \n",
       "\n",
       "   heart_rate           timestamp  \n",
       "0         NaN 2017-07-02 09:46:42  \n",
       "1         NaN 2017-07-02 09:46:43  \n",
       "2         NaN 2017-07-02 09:46:45  \n",
       "3         NaN 2017-07-02 09:46:46  \n",
       "4         NaN 2017-07-02 09:46:47  "
      ]
     },
     "execution_count": 41,
     "metadata": {},
     "output_type": "execute_result"
    }
   ],
   "source": [
    "records.head()"
   ]
  },
  {
   "cell_type": "code",
   "execution_count": 42,
   "metadata": {},
   "outputs": [
    {
     "name": "stdout",
     "output_type": "stream",
     "text": [
      "<class 'pandas.core.frame.DataFrame'>\n",
      "RangeIndex: 3095712 entries, 0 to 3095711\n",
      "Data columns (total 13 columns):\n",
      "idmove               int64\n",
      "idrecord             int64\n",
      "latitude             float64\n",
      "longitude            float64\n",
      "distance             float64\n",
      "altitude             float64\n",
      "enhanced_altitude    float64\n",
      "cadence              float64\n",
      "speed                float64\n",
      "enhanced_speed       float64\n",
      "vertical_speed       float64\n",
      "heart_rate           float64\n",
      "timestamp            datetime64[ns]\n",
      "dtypes: datetime64[ns](1), float64(10), int64(2)\n",
      "memory usage: 307.0 MB\n"
     ]
    }
   ],
   "source": [
    "records.info()"
   ]
  },
  {
   "cell_type": "code",
   "execution_count": 38,
   "metadata": {},
   "outputs": [
    {
     "data": {
      "text/plain": [
       "3095712"
      ]
     },
     "execution_count": 38,
     "metadata": {},
     "output_type": "execute_result"
    }
   ],
   "source": [
    "len(records)"
   ]
  },
  {
   "cell_type": "code",
   "execution_count": 43,
   "metadata": {},
   "outputs": [
    {
     "data": {
      "text/plain": [
       "idmove                     0\n",
       "idrecord                   0\n",
       "latitude             1652110\n",
       "longitude            1652110\n",
       "distance             1659830\n",
       "altitude              164350\n",
       "enhanced_altitude     164350\n",
       "cadence              2622810\n",
       "speed                 160138\n",
       "enhanced_speed        160138\n",
       "vertical_speed        187749\n",
       "heart_rate           1578767\n",
       "timestamp                  0\n",
       "dtype: int64"
      ]
     },
     "execution_count": 43,
     "metadata": {},
     "output_type": "execute_result"
    }
   ],
   "source": [
    "records.isnull().sum()"
   ]
  },
  {
   "cell_type": "markdown",
   "metadata": {},
   "source": [
    "#### Exporting to Google Cloud DB"
   ]
  },
  {
   "cell_type": "code",
   "execution_count": 44,
   "metadata": {},
   "outputs": [],
   "source": [
    "# Importing credentials file and creating engine\n",
    "import credentials\n",
    "\n",
    "driver = credentials.driver\n",
    "ip = credentials.ip\n",
    "username = credentials.username\n",
    "password = credentials.password\n",
    "db = credentials.db\n",
    "\n",
    "cs  = f'{driver}://{username}:{password}@{ip}/{db}'\n",
    "engine = create_engine(cs)"
   ]
  },
  {
   "cell_type": "code",
   "execution_count": 45,
   "metadata": {},
   "outputs": [],
   "source": [
    "records.to_sql(con=engine, name='records', if_exists='replace')"
   ]
  },
  {
   "cell_type": "markdown",
   "metadata": {},
   "source": [
    "#### Obtaining general overview of all moves (Table: \"moves\")"
   ]
  },
  {
   "cell_type": "code",
   "execution_count": 47,
   "metadata": {
    "scrolled": true
   },
   "outputs": [],
   "source": [
    "# Initializing categories we want to store\n",
    "ls_move_id = []\n",
    "ls_start_time = []\n",
    "ls_total_elapsed_time = []\n",
    "ls_total_moving_time = []\n",
    "ls_total_distance = []\n",
    "ls_total_calories = []\n",
    "ls_athlete = []\n",
    "\n",
    "move_code = 1\n",
    "for filepath in running_files:\n",
    "    fitfile = FitFile(filepath)\n",
    "    # Get message data with general information\n",
    "    for elem in fitfile.get_messages('session'):\n",
    "        ls_move_id.append(move_code)\n",
    "        ls_start_time.append(elem.get_value('start_time'))\n",
    "        ls_total_elapsed_time.append(elem.get_value('total_elapsed_time'))\n",
    "        ls_total_moving_time.append(elem.get_value('total_moving_time'))\n",
    "        ls_total_distance.append(elem.get_value('total_distance'))\n",
    "        ls_total_calories.append(elem.get_value('total_calories'))\n",
    "        if 'Moves_A' in filepath:\n",
    "            ls_athlete.append('A')\n",
    "        else:\n",
    "            ls_athlete.append('P')\n",
    "\n",
    "    move_code += 1"
   ]
  },
  {
   "cell_type": "code",
   "execution_count": 48,
   "metadata": {},
   "outputs": [],
   "source": [
    "# Creating DF with all the general info of the moves\n",
    "moves = pd.DataFrame({'move': ls_move_id,\n",
    "                        'start_time': ls_start_time,\n",
    "                        'elapsed_time': ls_total_elapsed_time,\n",
    "                        'moving_time': ls_total_moving_time,\n",
    "                        'distance': ls_total_distance,\n",
    "                        'calories': ls_total_calories,\n",
    "                        'athlete': ls_athlete\n",
    "                       })"
   ]
  },
  {
   "cell_type": "code",
   "execution_count": 49,
   "metadata": {},
   "outputs": [
    {
     "data": {
      "text/html": [
       "<div>\n",
       "<style scoped>\n",
       "    .dataframe tbody tr th:only-of-type {\n",
       "        vertical-align: middle;\n",
       "    }\n",
       "\n",
       "    .dataframe tbody tr th {\n",
       "        vertical-align: top;\n",
       "    }\n",
       "\n",
       "    .dataframe thead th {\n",
       "        text-align: right;\n",
       "    }\n",
       "</style>\n",
       "<table border=\"1\" class=\"dataframe\">\n",
       "  <thead>\n",
       "    <tr style=\"text-align: right;\">\n",
       "      <th></th>\n",
       "      <th>move</th>\n",
       "      <th>start_time</th>\n",
       "      <th>elapsed_time</th>\n",
       "      <th>moving_time</th>\n",
       "      <th>distance</th>\n",
       "      <th>calories</th>\n",
       "      <th>athlete</th>\n",
       "    </tr>\n",
       "  </thead>\n",
       "  <tbody>\n",
       "    <tr>\n",
       "      <th>0</th>\n",
       "      <td>1</td>\n",
       "      <td>2017-07-02 09:46:40</td>\n",
       "      <td>1787.960</td>\n",
       "      <td>1787.960</td>\n",
       "      <td>4019.0</td>\n",
       "      <td>670.0</td>\n",
       "      <td>P</td>\n",
       "    </tr>\n",
       "    <tr>\n",
       "      <th>1</th>\n",
       "      <td>2</td>\n",
       "      <td>2017-07-02 10:32:23</td>\n",
       "      <td>1856.488</td>\n",
       "      <td>1856.488</td>\n",
       "      <td>4995.0</td>\n",
       "      <td>585.0</td>\n",
       "      <td>P</td>\n",
       "    </tr>\n",
       "    <tr>\n",
       "      <th>2</th>\n",
       "      <td>3</td>\n",
       "      <td>2017-07-19 17:49:13</td>\n",
       "      <td>1356.937</td>\n",
       "      <td>1356.937</td>\n",
       "      <td>4374.0</td>\n",
       "      <td>602.0</td>\n",
       "      <td>P</td>\n",
       "    </tr>\n",
       "    <tr>\n",
       "      <th>3</th>\n",
       "      <td>4</td>\n",
       "      <td>2017-07-20 17:56:41</td>\n",
       "      <td>1014.037</td>\n",
       "      <td>1014.037</td>\n",
       "      <td>3005.0</td>\n",
       "      <td>365.0</td>\n",
       "      <td>P</td>\n",
       "    </tr>\n",
       "    <tr>\n",
       "      <th>4</th>\n",
       "      <td>5</td>\n",
       "      <td>2017-07-24 16:17:34</td>\n",
       "      <td>2522.062</td>\n",
       "      <td>2522.062</td>\n",
       "      <td>6540.0</td>\n",
       "      <td>760.0</td>\n",
       "      <td>P</td>\n",
       "    </tr>\n",
       "  </tbody>\n",
       "</table>\n",
       "</div>"
      ],
      "text/plain": [
       "   move          start_time  elapsed_time  moving_time  distance  calories  \\\n",
       "0     1 2017-07-02 09:46:40      1787.960     1787.960    4019.0     670.0   \n",
       "1     2 2017-07-02 10:32:23      1856.488     1856.488    4995.0     585.0   \n",
       "2     3 2017-07-19 17:49:13      1356.937     1356.937    4374.0     602.0   \n",
       "3     4 2017-07-20 17:56:41      1014.037     1014.037    3005.0     365.0   \n",
       "4     5 2017-07-24 16:17:34      2522.062     2522.062    6540.0     760.0   \n",
       "\n",
       "  athlete  \n",
       "0       P  \n",
       "1       P  \n",
       "2       P  \n",
       "3       P  \n",
       "4       P  "
      ]
     },
     "execution_count": 49,
     "metadata": {},
     "output_type": "execute_result"
    }
   ],
   "source": [
    "moves.head()"
   ]
  },
  {
   "cell_type": "code",
   "execution_count": 50,
   "metadata": {},
   "outputs": [
    {
     "name": "stdout",
     "output_type": "stream",
     "text": [
      "<class 'pandas.core.frame.DataFrame'>\n",
      "RangeIndex: 820 entries, 0 to 819\n",
      "Data columns (total 7 columns):\n",
      "move            820 non-null int64\n",
      "start_time      820 non-null datetime64[ns]\n",
      "elapsed_time    820 non-null float64\n",
      "moving_time     820 non-null float64\n",
      "distance        820 non-null float64\n",
      "calories        808 non-null float64\n",
      "athlete         820 non-null object\n",
      "dtypes: datetime64[ns](1), float64(4), int64(1), object(1)\n",
      "memory usage: 44.9+ KB\n"
     ]
    }
   ],
   "source": [
    "moves.info()"
   ]
  },
  {
   "cell_type": "markdown",
   "metadata": {},
   "source": [
    "#### Exporting to Google Cloud DB"
   ]
  },
  {
   "cell_type": "code",
   "execution_count": 52,
   "metadata": {},
   "outputs": [],
   "source": [
    "moves.to_sql(con=engine, name='moves', if_exists='replace')"
   ]
  },
  {
   "cell_type": "code",
   "execution_count": null,
   "metadata": {},
   "outputs": [],
   "source": []
  },
  {
   "cell_type": "code",
   "execution_count": null,
   "metadata": {},
   "outputs": [],
   "source": []
  },
  {
   "cell_type": "code",
   "execution_count": null,
   "metadata": {},
   "outputs": [],
   "source": []
  },
  {
   "cell_type": "code",
   "execution_count": null,
   "metadata": {},
   "outputs": [],
   "source": []
  },
  {
   "cell_type": "code",
   "execution_count": null,
   "metadata": {},
   "outputs": [],
   "source": []
  },
  {
   "cell_type": "code",
   "execution_count": null,
   "metadata": {},
   "outputs": [],
   "source": []
  },
  {
   "cell_type": "code",
   "execution_count": null,
   "metadata": {},
   "outputs": [],
   "source": []
  },
  {
   "cell_type": "code",
   "execution_count": null,
   "metadata": {},
   "outputs": [],
   "source": []
  },
  {
   "cell_type": "code",
   "execution_count": 25,
   "metadata": {},
   "outputs": [],
   "source": [
    "import matplotlib.pyplot as plt\n",
    "import seaborn as sns"
   ]
  },
  {
   "cell_type": "code",
   "execution_count": 24,
   "metadata": {},
   "outputs": [
    {
     "data": {
      "text/plain": [
       "<matplotlib.collections.PathCollection at 0x2671332ffd0>"
      ]
     },
     "execution_count": 24,
     "metadata": {},
     "output_type": "execute_result"
    },
    {
     "data": {
      "image/png": "[encoded data removed]",
      "text/plain": [
       "<Figure size 432x288 with 1 Axes>"
      ]
     },
     "metadata": {
      "needs_background": "light"
     },
     "output_type": "display_data"
    }
   ],
   "source": [
    "plt.scatter(moves['distance'], moves['moving_time'])"
   ]
  },
  {
   "cell_type": "code",
   "execution_count": 27,
   "metadata": {},
   "outputs": [
    {
     "data": {
      "text/plain": [
       "<seaborn.axisgrid.PairGrid at 0x26717e11198>"
      ]
     },
     "execution_count": 27,
     "metadata": {},
     "output_type": "execute_result"
    },
    {
     "data": {
      "image/png": "[encoded data removed]",
      "text/plain": [
       "<Figure size 720x720 with 20 Axes>"
      ]
     },
     "metadata": {
      "needs_background": "light"
     },
     "output_type": "display_data"
    }
   ],
   "source": [
    "sns.pairplot(moves.drop(columns='move'))"
   ]
  },
  {
   "cell_type": "code",
   "execution_count": null,
   "metadata": {},
   "outputs": [],
   "source": []
  }
 ],
 "metadata": {
  "kernelspec": {
   "display_name": "Python 3",
   "language": "python",
   "name": "python3"
  },
  "language_info": {
   "codemirror_mode": {
    "name": "ipython",
    "version": 3
   },
   "file_extension": ".py",
   "mimetype": "text/x-python",
   "name": "python",
   "nbconvert_exporter": "python",
   "pygments_lexer": "ipython3",
   "version": "3.7.1"
  }
 },
 "nbformat": 4,
 "nbformat_minor": 2
}
