{
 "cells": [
  {
   "cell_type": "markdown",
   "metadata": {},
   "source": [
    "#### Imports"
   ]
  },
  {
   "cell_type": "code",
   "execution_count": 17,
   "metadata": {},
   "outputs": [
    {
     "name": "stdout",
     "output_type": "stream",
     "text": [
      "Requirement already satisfied: fitparse in c:\\programdata\\anaconda3\\lib\\site-packages (1.1.0)\n"
     ]
    }
   ],
   "source": [
    "import sys\n",
    "!{sys.executable} -m pip install fitparse\n",
    "from fitparse import FitFile\n",
    "import os\n",
    "import pandas as pd"
   ]
  },
  {
   "cell_type": "markdown",
   "metadata": {},
   "source": [
    "#### Getting Path of all running moves"
   ]
  },
  {
   "cell_type": "code",
   "execution_count": 14,
   "metadata": {},
   "outputs": [
    {
     "data": {
      "text/plain": [
       "['C:/Users/Pau Sampietro/Desktop/IRONHACK/Movescount_data/Moves/Move_2017_07_02_11_46_40_Running.fit',\n",
       " 'C:/Users/Pau Sampietro/Desktop/IRONHACK/Movescount_data/Moves/Move_2017_07_02_12_32_23_Running.fit',\n",
       " 'C:/Users/Pau Sampietro/Desktop/IRONHACK/Movescount_data/Moves/Move_2017_07_19_19_49_13_Running.fit',\n",
       " 'C:/Users/Pau Sampietro/Desktop/IRONHACK/Movescount_data/Moves/Move_2017_07_20_19_56_41_Running.fit',\n",
       " 'C:/Users/Pau Sampietro/Desktop/IRONHACK/Movescount_data/Moves/Move_2017_07_24_18_17_34_Running.fit']"
      ]
     },
     "execution_count": 14,
     "metadata": {},
     "output_type": "execute_result"
    }
   ],
   "source": [
    "directory = 'C:/Users/Pau Sampietro/Desktop/IRONHACK/Movescount_data/Moves/'\n",
    "running_files = []\n",
    "for filename in os.listdir(directory):\n",
    "    if filename.endswith('Running.fit') : \n",
    "        running_files.append(os.path.join(directory, filename))\n",
    "        \n",
    "running_files[:5]"
   ]
  },
  {
   "cell_type": "markdown",
   "metadata": {},
   "source": [
    "#### Creating DataFrame with all the data from the watch"
   ]
  },
  {
   "cell_type": "code",
   "execution_count": 70,
   "metadata": {
    "scrolled": true
   },
   "outputs": [],
   "source": [
    "# Initializing categories we want to store\n",
    "ls_move_code = []\n",
    "ls_record_code = []\n",
    "ls_altitude = []\n",
    "ls_cadence = []\n",
    "ls_distance = []\n",
    "ls_enhanced_altitude = []\n",
    "ls_enhanced_speed = []\n",
    "ls_heart_rate = []\n",
    "ls_position_lat = []\n",
    "ls_position_long = []\n",
    "ls_speed = []\n",
    "ls_timestamp = []\n",
    "ls_vertical_speed = []\n",
    "\n",
    "move_code = 1\n",
    "for filepath in running_files:\n",
    "    fitfile = FitFile(filepath)\n",
    "    # Get all data messages that are of type record\n",
    "    for record in fitfile.get_messages('record'):\n",
    "        record_code = 1\n",
    "        # Go through all the data entries in this record and fill the lists\n",
    "        ls_move_code.append(move_code)\n",
    "        ls_record_code.append(record_code)\n",
    "        ls_altitude.append(record.get_value('altitude'))\n",
    "        ls_cadence.append(record.get_value('cadence'))\n",
    "        ls_distance.append(record.get_value('distance'))\n",
    "        ls_enhanced_altitude.append(record.get_value('enhanced_altitude'))\n",
    "        ls_enhanced_speed.append(record.get_value('enhanced_speed'))\n",
    "        ls_heart_rate.append(record.get_value('heart_rate'))\n",
    "        ls_position_lat.append(record.get_value('position_lat'))\n",
    "        ls_position_long.append(record.get_value('position_long'))\n",
    "        ls_speed.append(record.get_value('speed'))\n",
    "        ls_timestamp.append(record.get_value('timestamp'))\n",
    "        ls_vertical_speed.append(record.get_value('vertical_speed'))\n",
    "\n",
    "        record_code += 1\n",
    "    move_code += 1"
   ]
  },
  {
   "cell_type": "code",
   "execution_count": 72,
   "metadata": {},
   "outputs": [],
   "source": [
    "# Creating DF with all the records from all the moves\n",
    "records = pd.DataFrame({'idmove': ls_move_code,\n",
    "                        'idrecord': ls_record_code,\n",
    "                        'latitude': ls_position_lat,\n",
    "                        'longitude': ls_position_long,\n",
    "                        'distance': ls_distance,\n",
    "                        'altitude': ls_altitude,\n",
    "                        'enhanced_altitude': ls_enhanced_altitude,\n",
    "                        'cadence': ls_cadence,\n",
    "                        'speed': ls_speed,\n",
    "                        'enhanced_speed': ls_enhanced_speed,\n",
    "                        'vertical_speed': ls_vertical_speed,\n",
    "                        'heart_rate': ls_heart_rate,\n",
    "                        'timestamp': ls_timestamp \n",
    "                       })"
   ]
  },
  {
   "cell_type": "markdown",
   "metadata": {},
   "source": [
    "#### Adding general move information to the table"
   ]
  },
  {
   "cell_type": "code",
   "execution_count": 69,
   "metadata": {},
   "outputs": [
    {
     "name": "stdout",
     "output_type": "stream",
     "text": [
      "lap (#19)\n",
      "{'start_time': datetime.datetime(2018, 6, 17, 6, 0, 24), 'timestamp': datetime.datetime(2018, 6, 17, 9, 38, 29), 'total_elapsed_time': 12924.834, 'total_timer_time': 12924.834, 'total_moving_time': 12924.834, 'total_distance': 24389.0, 'event': 'lap', 'lap_trigger': 'manual', 'event_type': 'stop', 'message_index': 0}\n",
      "_____________________________\n",
      "session (#18)\n",
      "{'start_time': datetime.datetime(2018, 6, 17, 6, 0, 24), 'timestamp': datetime.datetime(2018, 6, 17, 9, 38, 29), 'sport': 'running', 'total_distance': 24389.0, 'total_elapsed_time': 12924.834, 'total_timer_time': 12924.834, 'total_moving_time': 12924.834, 'total_calories': 3409, 'message_index': 0, 'first_lap_index': 0, 'num_laps': 1, 'num_active_lengths': 0, 'event': 'session', 'event_type': 'stop'}\n",
      "_____________________________\n",
      "activity (#34)\n",
      "{'timestamp': datetime.datetime(2018, 6, 17, 9, 38, 29), 'local_timestamp': datetime.datetime(2018, 6, 17, 11, 38, 29), 'total_timer_time': 0.0, 'num_sessions': 1, 'type': 'manual', 'event': 'activity', 'event_type': 'stop'}\n",
      "_____________________________\n",
      "file_id (#0)\n",
      "{'time_created': datetime.datetime(2018, 6, 17, 6, 0, 24), 'manufacturer': 'suunto', 'product': 30, 'serial_number': None, 'type': 'activity'}\n",
      "_____________________________\n",
      "file_creator (#49)\n",
      "{'hardware_version': 0, 'software_version': 0}\n"
     ]
    }
   ],
   "source": [
    "list = ['lap', 'session', 'activity', 'file_id', 'file_creator']\n",
    "\n",
    "for elem in fitfile.get_messages('lap'):\n",
    "    print(elem)\n",
    "    print(elem.get_values())\n",
    "    print('_____________________________')\n",
    "for elem in fitfile.get_messages('session'):\n",
    "    print(elem)\n",
    "    print(elem.get_values())\n",
    "    print('_____________________________')\n",
    "for elem in fitfile.get_messages('activity'):\n",
    "    print(elem)\n",
    "    print(elem.get_values())\n",
    "    print('_____________________________')\n",
    "for elem in fitfile.get_messages('file_id'):\n",
    "    print(elem)\n",
    "    print(elem.get_values())\n",
    "    print('_____________________________')\n",
    "for elem in fitfile.get_messages('file_creator'):\n",
    "    print(elem)\n",
    "    print(elem.get_values())"
   ]
  },
  {
   "cell_type": "code",
   "execution_count": null,
   "metadata": {},
   "outputs": [],
   "source": []
  },
  {
   "cell_type": "code",
   "execution_count": null,
   "metadata": {},
   "outputs": [],
   "source": [
    "table_words.to_sql(con=engine, name='words', if_exists='replace')"
   ]
  }
 ],
 "metadata": {
  "kernelspec": {
   "display_name": "Python 3",
   "language": "python",
   "name": "python3"
  },
  "language_info": {
   "codemirror_mode": {
    "name": "ipython",
    "version": 3
   },
   "file_extension": ".py",
   "mimetype": "text/x-python",
   "name": "python",
   "nbconvert_exporter": "python",
   "pygments_lexer": "ipython3",
   "version": "3.7.1"
  }
 },
 "nbformat": 4,
 "nbformat_minor": 2
}
