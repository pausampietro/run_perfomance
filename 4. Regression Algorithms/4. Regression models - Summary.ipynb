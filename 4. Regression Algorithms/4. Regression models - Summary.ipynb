{
 "cells": [
  {
   "cell_type": "markdown",
   "metadata": {},
   "source": [
    "# RUN PERFORMANCE PROJECT - Pau Sampietro "
   ]
  },
  {
   "cell_type": "markdown",
   "metadata": {},
   "source": [
    "## Application of sup. learning algorithms (Regression) and Predictions for future moves"
   ]
  },
  {
   "cell_type": "markdown",
   "metadata": {},
   "source": [
    "To end our project, we would like to do a regression with all the moves performed by a given Athlete (Pau in this case), in order to be able to predict future performances in races to come. \n",
    "1. **Urban Race**: First, we will analyze the impact of some known features as distace and ascent in the outcome (moving_time).\n",
    "2. **Cross-Country Race**: In this case, we will have to perform some conversions to predict the moving_time as an outcome. "
   ]
  },
  {
   "cell_type": "markdown",
   "metadata": {},
   "source": [
    "<img src=\"images/ML.jpeg\">"
   ]
  },
  {
   "cell_type": "markdown",
   "metadata": {},
   "source": [
    "## Regression Models (Summary):"
   ]
  },
  {
   "cell_type": "markdown",
   "metadata": {},
   "source": [
    "To do this, we will try to use different approaches and compare the results:"
   ]
  },
  {
   "cell_type": "markdown",
   "metadata": {},
   "source": [
    "* **4a**: Linear Regression and Cross Validation\n",
    "* **4b**: KN-Neighbors Regressor\n",
    "* **4c**: Weighted linear regression\n",
    "* **4d**: Time series approach\n",
    "* **4e**: Regression using Neural Network"
   ]
  }
 ],
 "metadata": {
  "kernelspec": {
   "display_name": "Python 3",
   "language": "python",
   "name": "python3"
  },
  "language_info": {
   "codemirror_mode": {
    "name": "ipython",
    "version": 3
   },
   "file_extension": ".py",
   "mimetype": "text/x-python",
   "name": "python",
   "nbconvert_exporter": "python",
   "pygments_lexer": "ipython3",
   "version": "3.7.3"
  }
 },
 "nbformat": 4,
 "nbformat_minor": 2
}
